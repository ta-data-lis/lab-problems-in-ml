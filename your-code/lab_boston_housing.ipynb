{
 "cells": [
  {
   "cell_type": "markdown",
   "metadata": {},
   "source": [
    "# Understanding Over & Underfitting\n",
    "## Predicting Boston Housing Prices"
   ]
  },
  {
   "cell_type": "markdown",
   "metadata": {},
   "source": [
    "## Getting Started\n",
    "In this project, you will use the Boston Housing Prices dataset to build several models to predict the prices of homes with particular qualities from the suburbs of Boston, MA.\n",
    "We will build models with several different parameters, which will change the goodness of fit for each. "
   ]
  },
  {
   "cell_type": "markdown",
   "metadata": {},
   "source": [
    "---\n",
    "## Data Exploration\n",
    "Since we want to predict the value of houses, the **target variable**, `'MEDV'`, will be the variable we seek to predict."
   ]
  },
  {
   "cell_type": "markdown",
   "metadata": {},
   "source": [
    "### Import and explore the data. Clean the data for outliers and missing values. "
   ]
  },
  {
   "cell_type": "code",
   "execution_count": 1,
   "metadata": {},
   "outputs": [],
   "source": [
    "import pandas as pd\n",
    "import numpy as np\n",
    "import matplotlib.pyplot as plt"
   ]
  },
  {
   "cell_type": "code",
   "execution_count": 2,
   "metadata": {},
   "outputs": [
    {
     "name": "stdout",
     "output_type": "stream",
     "text": [
      "(404, 14)\n"
     ]
    },
    {
     "data": {
      "text/html": [
       "<div>\n",
       "<style scoped>\n",
       "    .dataframe tbody tr th:only-of-type {\n",
       "        vertical-align: middle;\n",
       "    }\n",
       "\n",
       "    .dataframe tbody tr th {\n",
       "        vertical-align: top;\n",
       "    }\n",
       "\n",
       "    .dataframe thead th {\n",
       "        text-align: right;\n",
       "    }\n",
       "</style>\n",
       "<table border=\"1\" class=\"dataframe\">\n",
       "  <thead>\n",
       "    <tr style=\"text-align: right;\">\n",
       "      <th></th>\n",
       "      <th>crim</th>\n",
       "      <th>zn</th>\n",
       "      <th>indus</th>\n",
       "      <th>chas</th>\n",
       "      <th>nox</th>\n",
       "      <th>rm</th>\n",
       "      <th>age</th>\n",
       "      <th>dis</th>\n",
       "      <th>rad</th>\n",
       "      <th>tax</th>\n",
       "      <th>ptratio</th>\n",
       "      <th>black</th>\n",
       "      <th>lstat</th>\n",
       "      <th>medv</th>\n",
       "    </tr>\n",
       "  </thead>\n",
       "  <tbody>\n",
       "    <tr>\n",
       "      <th>0</th>\n",
       "      <td>0.15876</td>\n",
       "      <td>0.0</td>\n",
       "      <td>10.81</td>\n",
       "      <td>0.0</td>\n",
       "      <td>0.413</td>\n",
       "      <td>5.961</td>\n",
       "      <td>17.5</td>\n",
       "      <td>5.2873</td>\n",
       "      <td>4.0</td>\n",
       "      <td>305.0</td>\n",
       "      <td>19.2</td>\n",
       "      <td>376.94</td>\n",
       "      <td>9.88</td>\n",
       "      <td>21.7</td>\n",
       "    </tr>\n",
       "    <tr>\n",
       "      <th>1</th>\n",
       "      <td>0.10328</td>\n",
       "      <td>25.0</td>\n",
       "      <td>5.13</td>\n",
       "      <td>0.0</td>\n",
       "      <td>0.453</td>\n",
       "      <td>5.927</td>\n",
       "      <td>47.2</td>\n",
       "      <td>6.9320</td>\n",
       "      <td>8.0</td>\n",
       "      <td>284.0</td>\n",
       "      <td>19.7</td>\n",
       "      <td>396.90</td>\n",
       "      <td>9.22</td>\n",
       "      <td>19.6</td>\n",
       "    </tr>\n",
       "    <tr>\n",
       "      <th>2</th>\n",
       "      <td>0.34940</td>\n",
       "      <td>0.0</td>\n",
       "      <td>9.90</td>\n",
       "      <td>0.0</td>\n",
       "      <td>0.544</td>\n",
       "      <td>5.972</td>\n",
       "      <td>76.7</td>\n",
       "      <td>3.1025</td>\n",
       "      <td>4.0</td>\n",
       "      <td>304.0</td>\n",
       "      <td>18.4</td>\n",
       "      <td>396.24</td>\n",
       "      <td>9.97</td>\n",
       "      <td>20.3</td>\n",
       "    </tr>\n",
       "    <tr>\n",
       "      <th>3</th>\n",
       "      <td>2.73397</td>\n",
       "      <td>0.0</td>\n",
       "      <td>19.58</td>\n",
       "      <td>0.0</td>\n",
       "      <td>0.871</td>\n",
       "      <td>5.597</td>\n",
       "      <td>94.9</td>\n",
       "      <td>1.5257</td>\n",
       "      <td>5.0</td>\n",
       "      <td>403.0</td>\n",
       "      <td>14.7</td>\n",
       "      <td>351.85</td>\n",
       "      <td>21.45</td>\n",
       "      <td>15.4</td>\n",
       "    </tr>\n",
       "    <tr>\n",
       "      <th>4</th>\n",
       "      <td>0.04337</td>\n",
       "      <td>21.0</td>\n",
       "      <td>5.64</td>\n",
       "      <td>0.0</td>\n",
       "      <td>0.439</td>\n",
       "      <td>6.115</td>\n",
       "      <td>63.0</td>\n",
       "      <td>6.8147</td>\n",
       "      <td>4.0</td>\n",
       "      <td>243.0</td>\n",
       "      <td>16.8</td>\n",
       "      <td>393.97</td>\n",
       "      <td>9.43</td>\n",
       "      <td>20.5</td>\n",
       "    </tr>\n",
       "  </tbody>\n",
       "</table>\n",
       "</div>"
      ],
      "text/plain": [
       "      crim    zn  indus  chas    nox     rm   age     dis  rad    tax  \\\n",
       "0  0.15876   0.0  10.81   0.0  0.413  5.961  17.5  5.2873  4.0  305.0   \n",
       "1  0.10328  25.0   5.13   0.0  0.453  5.927  47.2  6.9320  8.0  284.0   \n",
       "2  0.34940   0.0   9.90   0.0  0.544  5.972  76.7  3.1025  4.0  304.0   \n",
       "3  2.73397   0.0  19.58   0.0  0.871  5.597  94.9  1.5257  5.0  403.0   \n",
       "4  0.04337  21.0   5.64   0.0  0.439  6.115  63.0  6.8147  4.0  243.0   \n",
       "\n",
       "   ptratio   black  lstat  medv  \n",
       "0     19.2  376.94   9.88  21.7  \n",
       "1     19.7  396.90   9.22  19.6  \n",
       "2     18.4  396.24   9.97  20.3  \n",
       "3     14.7  351.85  21.45  15.4  \n",
       "4     16.8  393.97   9.43  20.5  "
      ]
     },
     "execution_count": 2,
     "metadata": {},
     "output_type": "execute_result"
    }
   ],
   "source": [
    "# Your code here\n",
    "boston = pd.read_csv(\"../data/boston_data.csv\")\n",
    "print(boston.shape)\n",
    "boston.head()"
   ]
  },
  {
   "cell_type": "code",
   "execution_count": 3,
   "metadata": {},
   "outputs": [],
   "source": [
    "#Attribute Information (in order):\n",
    "#   - CRIM     per capita crime rate by town\n",
    "#   - ZN       proportion of residential land zoned for lots over 25,000 sq.ft.\n",
    "#   - INDUS    proportion of non-retail business acres per town\n",
    "#   - CHAS     Charles River dummy variable (= 1 if tract bounds river; 0 otherwise)\n",
    "#   - NOX      nitric oxides concentration (parts per 10 million)\n",
    "#   - RM       average number of rooms per dwelling\n",
    "#   - AGE      proportion of owner-occupied units built prior to 1940\n",
    "#   - DIS      weighted distances to five Boston employment centres\n",
    "#   - RAD      index of accessibility to radial highways\n",
    "#   - TAX      full-value property-tax rate per $10,000\n",
    "#   - PTRATIO  pupil-teacher ratio by town\n",
    "#   - B        1000(Bk - 0.63)^2 where Bk is the proportion of black people by town\n",
    "#   - LSTAT    % lower status of the population\n",
    "#   - MEDV     Median value of owner-occupied homes in $1000's"
   ]
  },
  {
   "cell_type": "code",
   "execution_count": 4,
   "metadata": {},
   "outputs": [
    {
     "data": {
      "text/plain": [
       "crim       float64\n",
       "zn         float64\n",
       "indus      float64\n",
       "chas       float64\n",
       "nox        float64\n",
       "rm         float64\n",
       "age        float64\n",
       "dis        float64\n",
       "rad        float64\n",
       "tax        float64\n",
       "ptratio    float64\n",
       "black      float64\n",
       "lstat      float64\n",
       "medv       float64\n",
       "dtype: object"
      ]
     },
     "execution_count": 4,
     "metadata": {},
     "output_type": "execute_result"
    }
   ],
   "source": [
    "boston.dtypes"
   ]
  },
  {
   "cell_type": "code",
   "execution_count": 5,
   "metadata": {},
   "outputs": [
    {
     "data": {
      "text/plain": [
       "crim       0\n",
       "zn         0\n",
       "indus      0\n",
       "chas       0\n",
       "nox        0\n",
       "rm         0\n",
       "age        0\n",
       "dis        0\n",
       "rad        0\n",
       "tax        0\n",
       "ptratio    0\n",
       "black      0\n",
       "lstat      0\n",
       "medv       0\n",
       "dtype: int64"
      ]
     },
     "execution_count": 5,
     "metadata": {},
     "output_type": "execute_result"
    }
   ],
   "source": [
    "boston.isna().sum() #no NaN"
   ]
  },
  {
   "cell_type": "code",
   "execution_count": 6,
   "metadata": {},
   "outputs": [
    {
     "data": {
      "text/html": [
       "<div>\n",
       "<style scoped>\n",
       "    .dataframe tbody tr th:only-of-type {\n",
       "        vertical-align: middle;\n",
       "    }\n",
       "\n",
       "    .dataframe tbody tr th {\n",
       "        vertical-align: top;\n",
       "    }\n",
       "\n",
       "    .dataframe thead th {\n",
       "        text-align: right;\n",
       "    }\n",
       "</style>\n",
       "<table border=\"1\" class=\"dataframe\">\n",
       "  <thead>\n",
       "    <tr style=\"text-align: right;\">\n",
       "      <th></th>\n",
       "      <th>crim</th>\n",
       "      <th>zn</th>\n",
       "      <th>indus</th>\n",
       "      <th>chas</th>\n",
       "      <th>nox</th>\n",
       "      <th>rm</th>\n",
       "      <th>age</th>\n",
       "      <th>dis</th>\n",
       "      <th>rad</th>\n",
       "      <th>tax</th>\n",
       "      <th>ptratio</th>\n",
       "      <th>black</th>\n",
       "      <th>lstat</th>\n",
       "      <th>medv</th>\n",
       "    </tr>\n",
       "  </thead>\n",
       "  <tbody>\n",
       "    <tr>\n",
       "      <th>count</th>\n",
       "      <td>404.0</td>\n",
       "      <td>404.0</td>\n",
       "      <td>404.0</td>\n",
       "      <td>404.0</td>\n",
       "      <td>404.0</td>\n",
       "      <td>404.0</td>\n",
       "      <td>404.0</td>\n",
       "      <td>404.0</td>\n",
       "      <td>404.0</td>\n",
       "      <td>404.0</td>\n",
       "      <td>404.0</td>\n",
       "      <td>404.0</td>\n",
       "      <td>404.0</td>\n",
       "      <td>404.0</td>\n",
       "    </tr>\n",
       "    <tr>\n",
       "      <th>mean</th>\n",
       "      <td>3.730912</td>\n",
       "      <td>10.509901</td>\n",
       "      <td>11.189901</td>\n",
       "      <td>0.069307</td>\n",
       "      <td>0.55671</td>\n",
       "      <td>6.30145</td>\n",
       "      <td>68.601733</td>\n",
       "      <td>3.799666</td>\n",
       "      <td>9.836634</td>\n",
       "      <td>411.688119</td>\n",
       "      <td>18.444554</td>\n",
       "      <td>355.068243</td>\n",
       "      <td>12.598936</td>\n",
       "      <td>22.312376</td>\n",
       "    </tr>\n",
       "    <tr>\n",
       "      <th>std</th>\n",
       "      <td>8.943922</td>\n",
       "      <td>22.053733</td>\n",
       "      <td>6.814909</td>\n",
       "      <td>0.25429</td>\n",
       "      <td>0.117321</td>\n",
       "      <td>0.67583</td>\n",
       "      <td>28.066143</td>\n",
       "      <td>2.109916</td>\n",
       "      <td>8.834741</td>\n",
       "      <td>171.073553</td>\n",
       "      <td>2.150295</td>\n",
       "      <td>94.489572</td>\n",
       "      <td>6.925173</td>\n",
       "      <td>8.837019</td>\n",
       "    </tr>\n",
       "    <tr>\n",
       "      <th>min</th>\n",
       "      <td>0.00632</td>\n",
       "      <td>0.0</td>\n",
       "      <td>0.46</td>\n",
       "      <td>0.0</td>\n",
       "      <td>0.392</td>\n",
       "      <td>3.561</td>\n",
       "      <td>2.9</td>\n",
       "      <td>1.1691</td>\n",
       "      <td>1.0</td>\n",
       "      <td>187.0</td>\n",
       "      <td>12.6</td>\n",
       "      <td>0.32</td>\n",
       "      <td>1.73</td>\n",
       "      <td>5.0</td>\n",
       "    </tr>\n",
       "    <tr>\n",
       "      <th>25%</th>\n",
       "      <td>0.082382</td>\n",
       "      <td>0.0</td>\n",
       "      <td>5.19</td>\n",
       "      <td>0.0</td>\n",
       "      <td>0.453</td>\n",
       "      <td>5.90275</td>\n",
       "      <td>45.8</td>\n",
       "      <td>2.087875</td>\n",
       "      <td>4.0</td>\n",
       "      <td>281.0</td>\n",
       "      <td>17.375</td>\n",
       "      <td>374.71</td>\n",
       "      <td>7.135</td>\n",
       "      <td>17.1</td>\n",
       "    </tr>\n",
       "    <tr>\n",
       "      <th>50%</th>\n",
       "      <td>0.253715</td>\n",
       "      <td>0.0</td>\n",
       "      <td>9.795</td>\n",
       "      <td>0.0</td>\n",
       "      <td>0.538</td>\n",
       "      <td>6.2305</td>\n",
       "      <td>76.6</td>\n",
       "      <td>3.20745</td>\n",
       "      <td>5.0</td>\n",
       "      <td>330.0</td>\n",
       "      <td>19.0</td>\n",
       "      <td>391.065</td>\n",
       "      <td>11.265</td>\n",
       "      <td>21.4</td>\n",
       "    </tr>\n",
       "    <tr>\n",
       "      <th>75%</th>\n",
       "      <td>4.053158</td>\n",
       "      <td>12.5</td>\n",
       "      <td>18.1</td>\n",
       "      <td>0.0</td>\n",
       "      <td>0.631</td>\n",
       "      <td>6.62925</td>\n",
       "      <td>94.15</td>\n",
       "      <td>5.222125</td>\n",
       "      <td>24.0</td>\n",
       "      <td>666.0</td>\n",
       "      <td>20.2</td>\n",
       "      <td>396.0075</td>\n",
       "      <td>16.91</td>\n",
       "      <td>25.0</td>\n",
       "    </tr>\n",
       "    <tr>\n",
       "      <th>max</th>\n",
       "      <td>88.9762</td>\n",
       "      <td>95.0</td>\n",
       "      <td>27.74</td>\n",
       "      <td>1.0</td>\n",
       "      <td>0.871</td>\n",
       "      <td>8.78</td>\n",
       "      <td>100.0</td>\n",
       "      <td>12.1265</td>\n",
       "      <td>24.0</td>\n",
       "      <td>711.0</td>\n",
       "      <td>22.0</td>\n",
       "      <td>396.9</td>\n",
       "      <td>34.37</td>\n",
       "      <td>50.0</td>\n",
       "    </tr>\n",
       "    <tr>\n",
       "      <th>IQR</th>\n",
       "      <td>3.970775</td>\n",
       "      <td>12.5</td>\n",
       "      <td>12.91</td>\n",
       "      <td>0.0</td>\n",
       "      <td>0.178</td>\n",
       "      <td>0.7265</td>\n",
       "      <td>48.35</td>\n",
       "      <td>3.13425</td>\n",
       "      <td>20.0</td>\n",
       "      <td>385.0</td>\n",
       "      <td>2.825</td>\n",
       "      <td>21.2975</td>\n",
       "      <td>9.775</td>\n",
       "      <td>7.9</td>\n",
       "    </tr>\n",
       "    <tr>\n",
       "      <th>outliers_low</th>\n",
       "      <td>False</td>\n",
       "      <td>False</td>\n",
       "      <td>False</td>\n",
       "      <td>False</td>\n",
       "      <td>False</td>\n",
       "      <td>True</td>\n",
       "      <td>False</td>\n",
       "      <td>False</td>\n",
       "      <td>False</td>\n",
       "      <td>False</td>\n",
       "      <td>True</td>\n",
       "      <td>True</td>\n",
       "      <td>False</td>\n",
       "      <td>True</td>\n",
       "    </tr>\n",
       "    <tr>\n",
       "      <th>outliers_up</th>\n",
       "      <td>True</td>\n",
       "      <td>True</td>\n",
       "      <td>False</td>\n",
       "      <td>True</td>\n",
       "      <td>False</td>\n",
       "      <td>True</td>\n",
       "      <td>False</td>\n",
       "      <td>True</td>\n",
       "      <td>False</td>\n",
       "      <td>False</td>\n",
       "      <td>False</td>\n",
       "      <td>False</td>\n",
       "      <td>True</td>\n",
       "      <td>True</td>\n",
       "    </tr>\n",
       "  </tbody>\n",
       "</table>\n",
       "</div>"
      ],
      "text/plain": [
       "                  crim         zn      indus      chas       nox       rm  \\\n",
       "count            404.0      404.0      404.0     404.0     404.0    404.0   \n",
       "mean          3.730912  10.509901  11.189901  0.069307   0.55671  6.30145   \n",
       "std           8.943922  22.053733   6.814909   0.25429  0.117321  0.67583   \n",
       "min            0.00632        0.0       0.46       0.0     0.392    3.561   \n",
       "25%           0.082382        0.0       5.19       0.0     0.453  5.90275   \n",
       "50%           0.253715        0.0      9.795       0.0     0.538   6.2305   \n",
       "75%           4.053158       12.5       18.1       0.0     0.631  6.62925   \n",
       "max            88.9762       95.0      27.74       1.0     0.871     8.78   \n",
       "IQR           3.970775       12.5      12.91       0.0     0.178   0.7265   \n",
       "outliers_low     False      False      False     False     False     True   \n",
       "outliers_up       True       True      False      True     False     True   \n",
       "\n",
       "                    age       dis       rad         tax    ptratio  \\\n",
       "count             404.0     404.0     404.0       404.0      404.0   \n",
       "mean          68.601733  3.799666  9.836634  411.688119  18.444554   \n",
       "std           28.066143  2.109916  8.834741  171.073553   2.150295   \n",
       "min                 2.9    1.1691       1.0       187.0       12.6   \n",
       "25%                45.8  2.087875       4.0       281.0     17.375   \n",
       "50%                76.6   3.20745       5.0       330.0       19.0   \n",
       "75%               94.15  5.222125      24.0       666.0       20.2   \n",
       "max               100.0   12.1265      24.0       711.0       22.0   \n",
       "IQR               48.35   3.13425      20.0       385.0      2.825   \n",
       "outliers_low      False     False     False       False       True   \n",
       "outliers_up       False      True     False       False      False   \n",
       "\n",
       "                   black      lstat       medv  \n",
       "count              404.0      404.0      404.0  \n",
       "mean          355.068243  12.598936  22.312376  \n",
       "std            94.489572   6.925173   8.837019  \n",
       "min                 0.32       1.73        5.0  \n",
       "25%               374.71      7.135       17.1  \n",
       "50%              391.065     11.265       21.4  \n",
       "75%             396.0075      16.91       25.0  \n",
       "max                396.9      34.37       50.0  \n",
       "IQR              21.2975      9.775        7.9  \n",
       "outliers_low        True      False       True  \n",
       "outliers_up        False       True       True  "
      ]
     },
     "execution_count": 6,
     "metadata": {},
     "output_type": "execute_result"
    }
   ],
   "source": [
    "stats = boston.describe().transpose()\n",
    "stats['IQR'] = stats['75%'] - stats['25%']\n",
    "stats['outliers_low'] = (stats['25%'] - 1.5*stats['IQR'])>stats['min']\n",
    "stats['outliers_up'] = (stats['75%'] + 1.5*stats['IQR'])<stats['max']\n",
    "stats.transpose()"
   ]
  },
  {
   "cell_type": "code",
   "execution_count": 7,
   "metadata": {},
   "outputs": [
    {
     "data": {
      "text/plain": [
       "380    88.97620\n",
       "285    73.53410\n",
       "114    67.92080\n",
       "400    51.13580\n",
       "116    41.52920\n",
       "         ...   \n",
       "30      0.01439\n",
       "314     0.01381\n",
       "387     0.01360\n",
       "107     0.01301\n",
       "367     0.00632\n",
       "Name: crim, Length: 404, dtype: float64"
      ]
     },
     "execution_count": 7,
     "metadata": {},
     "output_type": "execute_result"
    }
   ],
   "source": [
    "#looking at upper outliers in different columns, unreasonable? didn't find any I want to delete, maybe just solve by rescaling?\n",
    "boston[\"crim\"].sort_values(ascending=False)\n",
    "#drop every crim over 50?"
   ]
  },
  {
   "cell_type": "code",
   "execution_count": 8,
   "metadata": {},
   "outputs": [],
   "source": [
    "boston.iloc[380:381][:]\n",
    "#boston.drop(380, axis=0, inplace=True)\n",
    "boston.drop([285,114,400], axis=0, inplace=True)"
   ]
  },
  {
   "cell_type": "markdown",
   "metadata": {},
   "source": [
    "### Next, we want to explore the data. Pick several varibables you think will be ost correlated with the prices of homes in Boston, and create plots that show the data dispersion as well as the regression line of best fit."
   ]
  },
  {
   "cell_type": "code",
   "execution_count": 9,
   "metadata": {},
   "outputs": [
    {
     "data": {
      "image/png": "[encoded data removed]",
      "text/plain": [
       "<Figure size 1200x300 with 5 Axes>"
      ]
     },
     "metadata": {},
     "output_type": "display_data"
    }
   ],
   "source": [
    "# Your plots here\n",
    "plot_options, (chart_1, chart_2, chart_3, chart_4, chart_5) = plt.subplots(nrows=1, ncols=5, figsize=(12,3))\n",
    "chart_1.plot(boston[\"crim\"], boston[\"medv\"], \"r+\")\n",
    "poly1d_fn = np.poly1d(np.polyfit(boston[\"crim\"], boston[\"medv\"], 1)) \n",
    "chart_1.plot(boston[\"crim\"], poly1d_fn(boston[\"crim\"]), '-k')\n",
    "chart_1.set_title(\"crim\")\n",
    "chart_2.plot(boston[\"indus\"], boston[\"medv\"], \"r+\")\n",
    "poly1d_fn = np.poly1d(np.polyfit(boston[\"indus\"], boston[\"medv\"],1)) \n",
    "chart_2.plot(boston[\"indus\"], poly1d_fn(boston[\"indus\"]), '-k')\n",
    "chart_2.set_title(\"indus\")\n",
    "chart_3.plot(boston[\"rm\"], boston[\"medv\"], \"r+\")\n",
    "poly1d_fn = np.poly1d(np.polyfit(boston[\"rm\"], boston[\"medv\"], 1)) \n",
    "chart_3.plot(boston[\"rm\"], poly1d_fn(boston[\"rm\"]), '-k')\n",
    "chart_3.set_title(\"rm\")\n",
    "chart_4.plot(boston[\"ptratio\"], boston[\"medv\"], \"r+\")\n",
    "poly1d_fn = np.poly1d(np.polyfit(boston[\"ptratio\"], boston[\"medv\"], 1)) \n",
    "chart_4.plot(boston[\"ptratio\"], poly1d_fn(boston[\"ptratio\"]), '-k')\n",
    "chart_4.set_title(\"ptratio\")\n",
    "chart_5.plot(boston[\"lstat\"], boston[\"medv\"], \"r+\")\n",
    "poly1d_fn = np.poly1d(np.polyfit(boston[\"lstat\"], boston[\"medv\"], 1)) \n",
    "chart_5.plot(boston[\"lstat\"], poly1d_fn(boston[\"lstat\"]), '-k')\n",
    "chart_5.set_title(\"lstat\")\n",
    "plt.show()"
   ]
  },
  {
   "cell_type": "markdown",
   "metadata": {},
   "source": [
    "### What do these plots tell you about the relationships between these variables and the prices of homes in Boston? Are these the relationships you expected to see in these variables?"
   ]
  },
  {
   "cell_type": "code",
   "execution_count": 10,
   "metadata": {},
   "outputs": [],
   "source": [
    "# Your response here\n",
    "#Yes, house prices are higher with low crime rates, with less industry in the area, \n",
    "#  with a smaller pupil-teacher-ratio, with a higher status of the population.\n",
    "#The only upward trend is in chart 3, house prices are higher with more rooms in the house. \n",
    "# All of these were to be expected. Linear trends seem to hold up for the lower to medium house prices.\n",
    "# Trends are stronger for crime rate, room number and population status, industry does not seem to be such a good predictor.\n"
   ]
  },
  {
   "cell_type": "markdown",
   "metadata": {},
   "source": [
    "### Make a heatmap of the remaining variables. Are there any variables that you did not consider that have very high correlations? What are they?"
   ]
  },
  {
   "cell_type": "code",
   "execution_count": 11,
   "metadata": {},
   "outputs": [
    {
     "data": {
      "image/png": "[encoded data removed]",
      "text/plain": [
       "<Figure size 800x800 with 2 Axes>"
      ]
     },
     "metadata": {},
     "output_type": "display_data"
    }
   ],
   "source": [
    "# Your response here\n",
    "import seaborn as sn\n",
    "corr=np.abs(boston[['zn', 'chas', 'nox', 'age', 'dis', 'rad', 'tax', 'black', 'medv']].corr())\n",
    "\n",
    "mask = np.zeros_like(corr, dtype=bool)\n",
    "mask[np.triu_indices_from(mask)] = True\n",
    "\n",
    "f, ax = plt.subplots(figsize=(8, 8))\n",
    "cmap = sn.diverging_palette(220, 10, as_cmap=True)\n",
    "sn.heatmap(corr, mask=mask,  vmax=1,square=True, linewidths=.5, cbar_kws={\"shrink\": .5},annot = corr)\n",
    "plt.show()"
   ]
  },
  {
   "cell_type": "code",
   "execution_count": 12,
   "metadata": {},
   "outputs": [],
   "source": [
    "# actually nearly every variable shows some correlation, so it is hard to pick. But there is also a lot of cross correlation.\n",
    "# Tax and Rad are highly correlated, so rad could be taken out without loosing much"
   ]
  },
  {
   "cell_type": "markdown",
   "metadata": {},
   "source": [
    "### Calculate Statistics\n",
    "Calculate descriptive statistics for housing price. Include the minimum, maximum, mean, median, and standard deviation. "
   ]
  },
  {
   "cell_type": "code",
   "execution_count": 13,
   "metadata": {},
   "outputs": [
    {
     "data": {
      "text/plain": [
       "count    401.000000\n",
       "mean      22.407481\n",
       "std        8.793753\n",
       "min        5.000000\n",
       "25%       17.200000\n",
       "50%       21.500000\n",
       "75%       25.000000\n",
       "max       50.000000\n",
       "Name: medv, dtype: float64"
      ]
     },
     "execution_count": 13,
     "metadata": {},
     "output_type": "execute_result"
    }
   ],
   "source": [
    "# Your code here\n",
    "boston[\"medv\"].describe()"
   ]
  },
  {
   "cell_type": "markdown",
   "metadata": {},
   "source": [
    "----\n",
    "\n",
    "## Developing a Model"
   ]
  },
  {
   "cell_type": "markdown",
   "metadata": {},
   "source": [
    "### Implementation: Define a Performance Metric\n",
    "What is the performance meteric with which you will determine the performance of your model? Create a function that calculates this performance metric, and then returns the score. "
   ]
  },
  {
   "cell_type": "code",
   "execution_count": 14,
   "metadata": {},
   "outputs": [],
   "source": [
    "from sklearn.metrics import r2_score\n",
    "\n",
    "def performance_metric(y_true, y_predict):\n",
    "    \"\"\" Calculates and returns the performance score between \n",
    "        true and predicted values based on the metric chosen. \"\"\"\n",
    "    # Your code here:\n",
    "    return r2_score(y_true, y_predict)"
   ]
  },
  {
   "cell_type": "markdown",
   "metadata": {},
   "source": [
    "### Implementation: Shuffle and Split Data\n",
    "Split the data into the testing and training datasets. Shuffle the data as well to remove any bias in selecting the traing and test. "
   ]
  },
  {
   "cell_type": "code",
   "execution_count": 15,
   "metadata": {},
   "outputs": [],
   "source": [
    "# Your code here\n",
    "from sklearn.model_selection import train_test_split\n",
    "\n",
    "X = boston.drop(columns=[\"medv\"], axis=1)\n",
    "Y = boston[\"medv\"]\n",
    "X_train, X_test, y_train, y_test = train_test_split(X, Y)"
   ]
  },
  {
   "cell_type": "markdown",
   "metadata": {},
   "source": [
    "----\n",
    "\n",
    "## Analyzing Model Performance\n",
    "Next, we are going to build a Random Forest Regressor, and test its performance with several different parameter settings."
   ]
  },
  {
   "cell_type": "markdown",
   "metadata": {},
   "source": [
    "### Learning Curves\n",
    "Lets build the different models. Set the max_depth parameter to 2, 4, 6, 8, and 10 respectively. "
   ]
  },
  {
   "cell_type": "code",
   "execution_count": 16,
   "metadata": {},
   "outputs": [
    {
     "name": "stdout",
     "output_type": "stream",
     "text": [
      "Wall time: 723 ms\n"
     ]
    },
    {
     "data": {
      "text/plain": [
       "RandomForestRegressor(max_depth=10)"
      ]
     },
     "execution_count": 16,
     "metadata": {},
     "output_type": "execute_result"
    }
   ],
   "source": [
    "%%time\n",
    "# Five separate RFR here with the given max depths\n",
    "\n",
    "from sklearn.ensemble import RandomForestRegressor\n",
    "\n",
    "forest2 = RandomForestRegressor(n_estimators=100, max_depth=2)\n",
    "forest2.fit(X_train, y_train)\n",
    "forest4 = RandomForestRegressor(n_estimators=100, max_depth=4)\n",
    "forest4.fit(X_train, y_train)\n",
    "forest6 = RandomForestRegressor(n_estimators=100, max_depth=6)\n",
    "forest6.fit(X_train, y_train)\n",
    "forest8 = RandomForestRegressor(n_estimators=100, max_depth=8)\n",
    "forest8.fit(X_train, y_train)\n",
    "forest10 = RandomForestRegressor(n_estimators=100, max_depth=10)\n",
    "forest10.fit(X_train, y_train)"
   ]
  },
  {
   "cell_type": "markdown",
   "metadata": {},
   "source": [
    "Now, plot the score for each tree on the training set and on the testing set."
   ]
  },
  {
   "cell_type": "code",
   "execution_count": 44,
   "metadata": {
    "scrolled": false
   },
   "outputs": [
    {
     "data": {
      "image/png": "[encoded data removed]",
      "text/plain": [
       "<Figure size 600x600 with 1 Axes>"
      ]
     },
     "metadata": {},
     "output_type": "display_data"
    }
   ],
   "source": [
    "# Produce a plot with the score for the testing and training for the different max depths\n",
    "train_scores = np.array([forest2.score(X_train, y_train),\n",
    "                         forest4.score(X_train, y_train),\n",
    "                         forest6.score(X_train, y_train),\n",
    "                         forest8.score(X_train, y_train),\n",
    "                         forest10.score(X_train, y_train)])\n",
    "test_scores = np.array([forest2.score(X_test, y_test),\n",
    "                        forest4.score(X_test, y_test),\n",
    "                        forest6.score(X_test, y_test),\n",
    "                        forest8.score(X_test, y_test),\n",
    "                        forest10.score(X_test, y_test)])\n",
    "fig, ax = plt.subplots(figsize=(6,6))\n",
    "plt.plot(train_scores, test_scores, \"ro\")\n",
    "plt.xlabel(\"train_scores\", size=12)\n",
    "plt.ylabel(\"test_scores\", size=12)\n",
    "plt.xlim(0.7,1)\n",
    "plt.ylim(0.7,1)\n",
    "for index in range(len(train_scores)):\n",
    "    ax.text(train_scores[index], test_scores[index], [2,4,6,8,10][index], size=12)\n",
    "plt.show()"
   ]
  },
  {
   "cell_type": "markdown",
   "metadata": {},
   "source": [
    "What do these results tell you about the effect of the depth of the trees on the performance of the model?"
   ]
  },
  {
   "cell_type": "code",
   "execution_count": null,
   "metadata": {},
   "outputs": [],
   "source": [
    "# Your response here\n",
    "# The train scores are all higher than the test scores, so there is always overfitting.\n",
    "# The overfitting gets higher with higher depth of the model, max_depth = 2 has the least overfitting."
   ]
  },
  {
   "cell_type": "markdown",
   "metadata": {},
   "source": [
    "### Bias-Variance Tradeoff\n",
    "When the model is trained with a maximum depth of 1, does the model suffer from high bias or from high variance? How about when the model is trained with a maximum depth of 10? Check out this article before answering: https://towardsdatascience.com/understanding-the-bias-variance-tradeoff-165e6942b229"
   ]
  },
  {
   "cell_type": "code",
   "execution_count": 49,
   "metadata": {},
   "outputs": [
    {
     "name": "stdout",
     "output_type": "stream",
     "text": [
      "Model with max_depth 1, train score: 0.587321041768603\n",
      "Model with max_depth 1, test score: 0.5788989695692828\n",
      "Model with max_depth 10, train score: 0.9747533825294609\n",
      "Model with max_depth 10, test score: 0.8223244299361981\n"
     ]
    }
   ],
   "source": [
    "# Your response here\n",
    "forest1 = RandomForestRegressor(n_estimators=100, max_depth=1)\n",
    "forest1.fit(X_train, y_train)\n",
    "\n",
    "print(f'Model with max_depth 1, train score: {forest1.score(X_train, y_train)}')\n",
    "print(f'Model with max_depth 1, test score: {forest1.score(X_test, y_test)}')\n",
    "print(f'Model with max_depth 10, train score: {forest10.score(X_train, y_train)}')\n",
    "print(f'Model with max_depth 10, test score: {forest10.score(X_test, y_test)}')\n",
    "\n",
    "#Model with max_depth 1: low accuracy in both, a bit overfitting but not strongly. \n",
    "# As the model was only allowed to use one split, this will have a high bias - one variable decides instead of a mix of variables.\n",
    "# With the high bias probably comes a medium to high variance (because leaning to overfitting and again, only 1 variable makes the model.)\n",
    "# Model 1 -> high bias.\n",
    "\n",
    "#Model with max_depth 10: high accuracy in train, 15% lower in test, overfitting a lot. \n",
    "# As the model has up to 10 splits, the bias is probably small. But with the high variance (because of overfitting) \n",
    "# predictions can often not be accurate.\n",
    "# Model 10 -> high variance."
   ]
  },
  {
   "cell_type": "markdown",
   "metadata": {},
   "source": [
    "### Best-Guess Optimal Model\n",
    "What is the max_depth parameter that you think would optimize the model? Run your model and explain its performance."
   ]
  },
  {
   "cell_type": "code",
   "execution_count": 54,
   "metadata": {},
   "outputs": [
    {
     "name": "stdout",
     "output_type": "stream",
     "text": [
      "Wall time: 3.41 s\n"
     ]
    },
    {
     "data": {
      "text/plain": [
       "GridSearchCV(cv=5, estimator=RandomForestRegressor(),\n",
       "             param_grid={'max_depth': [3, 4, 5, 6, 7, 8, 9]})"
      ]
     },
     "execution_count": 54,
     "metadata": {},
     "output_type": "execute_result"
    }
   ],
   "source": [
    "%%time \n",
    "\n",
    "# Your response here\n",
    "from sklearn.model_selection import GridSearchCV\n",
    "\n",
    "max_depth = [3,4,5,6,7,8,9]\n",
    "grid = {\"max_depth\":max_depth}\n",
    "forest = RandomForestRegressor()\n",
    "\n",
    "grid_search = GridSearchCV(estimator = forest, param_grid = grid, cv = 5) # cv usually 5 or 10. 5*7 = 35 runs in total\n",
    "grid_search.fit(X_train,y_train)"
   ]
  },
  {
   "cell_type": "code",
   "execution_count": 55,
   "metadata": {},
   "outputs": [
    {
     "data": {
      "text/plain": [
       "{'max_depth': 8}"
      ]
     },
     "execution_count": 55,
     "metadata": {},
     "output_type": "execute_result"
    }
   ],
   "source": [
    "# and the winner is...\n",
    "grid_search.best_params_"
   ]
  },
  {
   "cell_type": "code",
   "execution_count": 56,
   "metadata": {},
   "outputs": [
    {
     "name": "stdout",
     "output_type": "stream",
     "text": [
      "Model with max_depth 8, train score: 0.9705503643566239\n",
      "Model with max_depth 8, test score: 0.8409265856078486\n"
     ]
    }
   ],
   "source": [
    "#ran the grid search multiple times, always a result between 7-9. So I'll choose 8.\n",
    "print(f'Model with max_depth 8, train score: {forest8.score(X_train, y_train)}')\n",
    "print(f'Model with max_depth 8, test score: {forest8.score(X_test, y_test)}')\n",
    "\n",
    "# there would be many other parameters to optimise. This max-depth of 8 leads to a lot of overfitting, even though the bias is\n",
    "# probably small."
   ]
  },
  {
   "cell_type": "markdown",
   "metadata": {},
   "source": [
    "### Applicability\n",
    "*In a few sentences, discuss whether the constructed model should or should not be used in a real-world setting.*  \n",
    "**Hint:** Some questions to answering:\n",
    "- *How relevant today is data that was collected from 1978?*\n",
    "- *Are the features present in the data sufficient to describe a home?*\n",
    "- *Is the model robust enough to make consistent predictions?*\n",
    "- *Would data collected in an urban city like Boston be applicable in a rural city?*"
   ]
  },
  {
   "cell_type": "code",
   "execution_count": null,
   "metadata": {},
   "outputs": [],
   "source": [
    "# Your response here\n",
    "# Prices changed a lot and society and neighborhoods too: with more working from home, access to highways might not be so \n",
    "# important as a good internet connection nowadays. Gentrification is a process of previously lower class quarters being \n",
    "# redeveloped, showing higher prices and a change in the population and subsequently, house prices. So no, I would not use \n",
    "# the same model on modern day data without checking closely if the same correlations still hold up.\n",
    "\n",
    "# There is other important factors changing prices, like noise pollution from a near highway or distance to green spaces.\n",
    "# But as one will never have all the factors, this is quite a varied set of factors to describe prices.\n",
    "\n",
    "# My model was not very robust, more parameter tuning might help. To use it on other towns in the US in the 80s, I think \n",
    "# it would be robust enough then.\n",
    "\n",
    "# In rural cities other parameters might be more important, like distance to main industrial area. Prices in rural areas are \n",
    "# normally lower (if not a vacation town), so the predictions might be very wrong."
   ]
  }
 ],
 "metadata": {
  "anaconda-cloud": {},
  "kernelspec": {
   "display_name": "Python 3 (ipykernel)",
   "language": "python",
   "name": "python3"
  },
  "language_info": {
   "codemirror_mode": {
    "name": "ipython",
    "version": 3
   },
   "file_extension": ".py",
   "mimetype": "text/x-python",
   "name": "python",
   "nbconvert_exporter": "python",
   "pygments_lexer": "ipython3",
   "version": "3.9.13"
  }
 },
 "nbformat": 4,
 "nbformat_minor": 1
}
