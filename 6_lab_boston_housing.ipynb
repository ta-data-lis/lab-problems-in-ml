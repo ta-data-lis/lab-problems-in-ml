{
  "cells": [
    {
      "cell_type": "markdown",
      "metadata": {
        "id": "1ifuQdpW-gHJ"
      },
      "source": [
        "# Understanding Over & Underfitting\n",
        "## Predicting Boston Housing Prices"
      ]
    },
    {
      "cell_type": "markdown",
      "metadata": {
        "id": "-Ow99753-gHM"
      },
      "source": [
        "## Getting Started\n",
        "In this project, you will use the Boston Housing Prices dataset to build several models to predict the prices of homes with particular qualities from the suburbs of Boston, MA.\n",
        "We will build models with several different parameters, which will change the goodness of fit for each."
      ]
    },
    {
      "cell_type": "markdown",
      "metadata": {
        "id": "4uvMTTJz-gHN"
      },
      "source": [
        "---\n",
        "## Data Exploration\n",
        "Since we want to predict the value of houses, the **target variable**, `'MEDV'`, will be the variable we seek to predict."
      ]
    },
    {
      "cell_type": "markdown",
      "metadata": {
        "id": "d4BXDfYn-gHN"
      },
      "source": [
        "### Import and explore the data. Clean the data for outliers and missing values."
      ]
    },
    {
      "cell_type": "code",
      "source": [
        "import pandas as pd\n",
        "import numpy as np\n",
        "import seaborn as sns\n",
        "import matplotlib.pyplot as plt"
      ],
      "metadata": {
        "id": "IlCWeM3-_VjH"
      },
      "execution_count": 3,
      "outputs": []
    },
    {
      "cell_type": "code",
      "execution_count": 4,
      "metadata": {
        "id": "9-PNKk5v-gHO",
        "colab": {
          "base_uri": "https://localhost:8080/",
          "height": 206
        },
        "outputId": "5394a7cf-fd05-4dd3-9ef4-42b7b4f1db71"
      },
      "outputs": [
        {
          "output_type": "execute_result",
          "data": {
            "text/plain": [
              "      crim    zn  indus  chas    nox     rm   age     dis  rad    tax  \\\n",
              "0  0.15876   0.0  10.81   0.0  0.413  5.961  17.5  5.2873  4.0  305.0   \n",
              "1  0.10328  25.0   5.13   0.0  0.453  5.927  47.2  6.9320  8.0  284.0   \n",
              "2  0.34940   0.0   9.90   0.0  0.544  5.972  76.7  3.1025  4.0  304.0   \n",
              "3  2.73397   0.0  19.58   0.0  0.871  5.597  94.9  1.5257  5.0  403.0   \n",
              "4  0.04337  21.0   5.64   0.0  0.439  6.115  63.0  6.8147  4.0  243.0   \n",
              "\n",
              "   ptratio   black  lstat  medv  \n",
              "0     19.2  376.94   9.88  21.7  \n",
              "1     19.7  396.90   9.22  19.6  \n",
              "2     18.4  396.24   9.97  20.3  \n",
              "3     14.7  351.85  21.45  15.4  \n",
              "4     16.8  393.97   9.43  20.5  "
            ],
            "text/html": [
              "\n",
              "  <div id=\"df-9957bc4e-b9bb-4f7b-a579-84a824ec2f55\" class=\"colab-df-container\">\n",
              "    <div>\n",
              "<style scoped>\n",
              "    .dataframe tbody tr th:only-of-type {\n",
              "        vertical-align: middle;\n",
              "    }\n",
              "\n",
              "    .dataframe tbody tr th {\n",
              "        vertical-align: top;\n",
              "    }\n",
              "\n",
              "    .dataframe thead th {\n",
              "        text-align: right;\n",
              "    }\n",
              "</style>\n",
              "<table border=\"1\" class=\"dataframe\">\n",
              "  <thead>\n",
              "    <tr style=\"text-align: right;\">\n",
              "      <th></th>\n",
              "      <th>crim</th>\n",
              "      <th>zn</th>\n",
              "      <th>indus</th>\n",
              "      <th>chas</th>\n",
              "      <th>nox</th>\n",
              "      <th>rm</th>\n",
              "      <th>age</th>\n",
              "      <th>dis</th>\n",
              "      <th>rad</th>\n",
              "      <th>tax</th>\n",
              "      <th>ptratio</th>\n",
              "      <th>black</th>\n",
              "      <th>lstat</th>\n",
              "      <th>medv</th>\n",
              "    </tr>\n",
              "  </thead>\n",
              "  <tbody>\n",
              "    <tr>\n",
              "      <th>0</th>\n",
              "      <td>0.15876</td>\n",
              "      <td>0.0</td>\n",
              "      <td>10.81</td>\n",
              "      <td>0.0</td>\n",
              "      <td>0.413</td>\n",
              "      <td>5.961</td>\n",
              "      <td>17.5</td>\n",
              "      <td>5.2873</td>\n",
              "      <td>4.0</td>\n",
              "      <td>305.0</td>\n",
              "      <td>19.2</td>\n",
              "      <td>376.94</td>\n",
              "      <td>9.88</td>\n",
              "      <td>21.7</td>\n",
              "    </tr>\n",
              "    <tr>\n",
              "      <th>1</th>\n",
              "      <td>0.10328</td>\n",
              "      <td>25.0</td>\n",
              "      <td>5.13</td>\n",
              "      <td>0.0</td>\n",
              "      <td>0.453</td>\n",
              "      <td>5.927</td>\n",
              "      <td>47.2</td>\n",
              "      <td>6.9320</td>\n",
              "      <td>8.0</td>\n",
              "      <td>284.0</td>\n",
              "      <td>19.7</td>\n",
              "      <td>396.90</td>\n",
              "      <td>9.22</td>\n",
              "      <td>19.6</td>\n",
              "    </tr>\n",
              "    <tr>\n",
              "      <th>2</th>\n",
              "      <td>0.34940</td>\n",
              "      <td>0.0</td>\n",
              "      <td>9.90</td>\n",
              "      <td>0.0</td>\n",
              "      <td>0.544</td>\n",
              "      <td>5.972</td>\n",
              "      <td>76.7</td>\n",
              "      <td>3.1025</td>\n",
              "      <td>4.0</td>\n",
              "      <td>304.0</td>\n",
              "      <td>18.4</td>\n",
              "      <td>396.24</td>\n",
              "      <td>9.97</td>\n",
              "      <td>20.3</td>\n",
              "    </tr>\n",
              "    <tr>\n",
              "      <th>3</th>\n",
              "      <td>2.73397</td>\n",
              "      <td>0.0</td>\n",
              "      <td>19.58</td>\n",
              "      <td>0.0</td>\n",
              "      <td>0.871</td>\n",
              "      <td>5.597</td>\n",
              "      <td>94.9</td>\n",
              "      <td>1.5257</td>\n",
              "      <td>5.0</td>\n",
              "      <td>403.0</td>\n",
              "      <td>14.7</td>\n",
              "      <td>351.85</td>\n",
              "      <td>21.45</td>\n",
              "      <td>15.4</td>\n",
              "    </tr>\n",
              "    <tr>\n",
              "      <th>4</th>\n",
              "      <td>0.04337</td>\n",
              "      <td>21.0</td>\n",
              "      <td>5.64</td>\n",
              "      <td>0.0</td>\n",
              "      <td>0.439</td>\n",
              "      <td>6.115</td>\n",
              "      <td>63.0</td>\n",
              "      <td>6.8147</td>\n",
              "      <td>4.0</td>\n",
              "      <td>243.0</td>\n",
              "      <td>16.8</td>\n",
              "      <td>393.97</td>\n",
              "      <td>9.43</td>\n",
              "      <td>20.5</td>\n",
              "    </tr>\n",
              "  </tbody>\n",
              "</table>\n",
              "</div>\n",
              "    <div class=\"colab-df-buttons\">\n",
              "\n",
              "  <div class=\"colab-df-container\">\n",
              "    <button class=\"colab-df-convert\" onclick=\"convertToInteractive('df-9957bc4e-b9bb-4f7b-a579-84a824ec2f55')\"\n",
              "            title=\"Convert this dataframe to an interactive table.\"\n",
              "            style=\"display:none;\">\n",
              "\n",
              "  <svg xmlns=\"http://www.w3.org/2000/svg\" height=\"24px\" viewBox=\"0 -960 960 960\">\n",
              "    <path d=\"M120-120v-720h720v720H120Zm60-500h600v-160H180v160Zm220 220h160v-160H400v160Zm0 220h160v-160H400v160ZM180-400h160v-160H180v160Zm440 0h160v-160H620v160ZM180-180h160v-160H180v160Zm440 0h160v-160H620v160Z\"/>\n",
              "  </svg>\n",
              "    </button>\n",
              "\n",
              "  <style>\n",
              "    .colab-df-container {\n",
              "      display:flex;\n",
              "      gap: 12px;\n",
              "    }\n",
              "\n",
              "    .colab-df-convert {\n",
              "      background-color: #E8F0FE;\n",
              "      border: none;\n",
              "      border-radius: 50%;\n",
              "      cursor: pointer;\n",
              "      display: none;\n",
              "      fill: #1967D2;\n",
              "      height: 32px;\n",
              "      padding: 0 0 0 0;\n",
              "      width: 32px;\n",
              "    }\n",
              "\n",
              "    .colab-df-convert:hover {\n",
              "      background-color: #E2EBFA;\n",
              "      box-shadow: 0px 1px 2px rgba(60, 64, 67, 0.3), 0px 1px 3px 1px rgba(60, 64, 67, 0.15);\n",
              "      fill: #174EA6;\n",
              "    }\n",
              "\n",
              "    .colab-df-buttons div {\n",
              "      margin-bottom: 4px;\n",
              "    }\n",
              "\n",
              "    [theme=dark] .colab-df-convert {\n",
              "      background-color: #3B4455;\n",
              "      fill: #D2E3FC;\n",
              "    }\n",
              "\n",
              "    [theme=dark] .colab-df-convert:hover {\n",
              "      background-color: #434B5C;\n",
              "      box-shadow: 0px 1px 3px 1px rgba(0, 0, 0, 0.15);\n",
              "      filter: drop-shadow(0px 1px 2px rgba(0, 0, 0, 0.3));\n",
              "      fill: #FFFFFF;\n",
              "    }\n",
              "  </style>\n",
              "\n",
              "    <script>\n",
              "      const buttonEl =\n",
              "        document.querySelector('#df-9957bc4e-b9bb-4f7b-a579-84a824ec2f55 button.colab-df-convert');\n",
              "      buttonEl.style.display =\n",
              "        google.colab.kernel.accessAllowed ? 'block' : 'none';\n",
              "\n",
              "      async function convertToInteractive(key) {\n",
              "        const element = document.querySelector('#df-9957bc4e-b9bb-4f7b-a579-84a824ec2f55');\n",
              "        const dataTable =\n",
              "          await google.colab.kernel.invokeFunction('convertToInteractive',\n",
              "                                                    [key], {});\n",
              "        if (!dataTable) return;\n",
              "\n",
              "        const docLinkHtml = 'Like what you see? Visit the ' +\n",
              "          '<a target=\"_blank\" href=https://colab.research.google.com/notebooks/data_table.ipynb>data table notebook</a>'\n",
              "          + ' to learn more about interactive tables.';\n",
              "        element.innerHTML = '';\n",
              "        dataTable['output_type'] = 'display_data';\n",
              "        await google.colab.output.renderOutput(dataTable, element);\n",
              "        const docLink = document.createElement('div');\n",
              "        docLink.innerHTML = docLinkHtml;\n",
              "        element.appendChild(docLink);\n",
              "      }\n",
              "    </script>\n",
              "  </div>\n",
              "\n",
              "\n",
              "<div id=\"df-9e3a3e31-4fce-4b1e-bf4e-abb7df42d0c3\">\n",
              "  <button class=\"colab-df-quickchart\" onclick=\"quickchart('df-9e3a3e31-4fce-4b1e-bf4e-abb7df42d0c3')\"\n",
              "            title=\"Suggest charts\"\n",
              "            style=\"display:none;\">\n",
              "\n",
              "<svg xmlns=\"http://www.w3.org/2000/svg\" height=\"24px\"viewBox=\"0 0 24 24\"\n",
              "     width=\"24px\">\n",
              "    <g>\n",
              "        <path d=\"M19 3H5c-1.1 0-2 .9-2 2v14c0 1.1.9 2 2 2h14c1.1 0 2-.9 2-2V5c0-1.1-.9-2-2-2zM9 17H7v-7h2v7zm4 0h-2V7h2v10zm4 0h-2v-4h2v4z\"/>\n",
              "    </g>\n",
              "</svg>\n",
              "  </button>\n",
              "\n",
              "<style>\n",
              "  .colab-df-quickchart {\n",
              "      --bg-color: #E8F0FE;\n",
              "      --fill-color: #1967D2;\n",
              "      --hover-bg-color: #E2EBFA;\n",
              "      --hover-fill-color: #174EA6;\n",
              "      --disabled-fill-color: #AAA;\n",
              "      --disabled-bg-color: #DDD;\n",
              "  }\n",
              "\n",
              "  [theme=dark] .colab-df-quickchart {\n",
              "      --bg-color: #3B4455;\n",
              "      --fill-color: #D2E3FC;\n",
              "      --hover-bg-color: #434B5C;\n",
              "      --hover-fill-color: #FFFFFF;\n",
              "      --disabled-bg-color: #3B4455;\n",
              "      --disabled-fill-color: #666;\n",
              "  }\n",
              "\n",
              "  .colab-df-quickchart {\n",
              "    background-color: var(--bg-color);\n",
              "    border: none;\n",
              "    border-radius: 50%;\n",
              "    cursor: pointer;\n",
              "    display: none;\n",
              "    fill: var(--fill-color);\n",
              "    height: 32px;\n",
              "    padding: 0;\n",
              "    width: 32px;\n",
              "  }\n",
              "\n",
              "  .colab-df-quickchart:hover {\n",
              "    background-color: var(--hover-bg-color);\n",
              "    box-shadow: 0 1px 2px rgba(60, 64, 67, 0.3), 0 1px 3px 1px rgba(60, 64, 67, 0.15);\n",
              "    fill: var(--button-hover-fill-color);\n",
              "  }\n",
              "\n",
              "  .colab-df-quickchart-complete:disabled,\n",
              "  .colab-df-quickchart-complete:disabled:hover {\n",
              "    background-color: var(--disabled-bg-color);\n",
              "    fill: var(--disabled-fill-color);\n",
              "    box-shadow: none;\n",
              "  }\n",
              "\n",
              "  .colab-df-spinner {\n",
              "    border: 2px solid var(--fill-color);\n",
              "    border-color: transparent;\n",
              "    border-bottom-color: var(--fill-color);\n",
              "    animation:\n",
              "      spin 1s steps(1) infinite;\n",
              "  }\n",
              "\n",
              "  @keyframes spin {\n",
              "    0% {\n",
              "      border-color: transparent;\n",
              "      border-bottom-color: var(--fill-color);\n",
              "      border-left-color: var(--fill-color);\n",
              "    }\n",
              "    20% {\n",
              "      border-color: transparent;\n",
              "      border-left-color: var(--fill-color);\n",
              "      border-top-color: var(--fill-color);\n",
              "    }\n",
              "    30% {\n",
              "      border-color: transparent;\n",
              "      border-left-color: var(--fill-color);\n",
              "      border-top-color: var(--fill-color);\n",
              "      border-right-color: var(--fill-color);\n",
              "    }\n",
              "    40% {\n",
              "      border-color: transparent;\n",
              "      border-right-color: var(--fill-color);\n",
              "      border-top-color: var(--fill-color);\n",
              "    }\n",
              "    60% {\n",
              "      border-color: transparent;\n",
              "      border-right-color: var(--fill-color);\n",
              "    }\n",
              "    80% {\n",
              "      border-color: transparent;\n",
              "      border-right-color: var(--fill-color);\n",
              "      border-bottom-color: var(--fill-color);\n",
              "    }\n",
              "    90% {\n",
              "      border-color: transparent;\n",
              "      border-bottom-color: var(--fill-color);\n",
              "    }\n",
              "  }\n",
              "</style>\n",
              "\n",
              "  <script>\n",
              "    async function quickchart(key) {\n",
              "      const quickchartButtonEl =\n",
              "        document.querySelector('#' + key + ' button');\n",
              "      quickchartButtonEl.disabled = true;  // To prevent multiple clicks.\n",
              "      quickchartButtonEl.classList.add('colab-df-spinner');\n",
              "      try {\n",
              "        const charts = await google.colab.kernel.invokeFunction(\n",
              "            'suggestCharts', [key], {});\n",
              "      } catch (error) {\n",
              "        console.error('Error during call to suggestCharts:', error);\n",
              "      }\n",
              "      quickchartButtonEl.classList.remove('colab-df-spinner');\n",
              "      quickchartButtonEl.classList.add('colab-df-quickchart-complete');\n",
              "    }\n",
              "    (() => {\n",
              "      let quickchartButtonEl =\n",
              "        document.querySelector('#df-9e3a3e31-4fce-4b1e-bf4e-abb7df42d0c3 button');\n",
              "      quickchartButtonEl.style.display =\n",
              "        google.colab.kernel.accessAllowed ? 'block' : 'none';\n",
              "    })();\n",
              "  </script>\n",
              "</div>\n",
              "    </div>\n",
              "  </div>\n"
            ]
          },
          "metadata": {},
          "execution_count": 4
        }
      ],
      "source": [
        "houses = pd.read_csv(\"/content/boston_data.csv\")\n",
        "houses.head()"
      ]
    },
    {
      "cell_type": "code",
      "source": [
        "# overall\n",
        "print(\"The actual shape of my data is\",houses.shape[0],\"rows and\",houses.shape[1],\"columns\")\n",
        "print(\"\\n'Houses' contains the following data types:\\n\")\n",
        "print(houses.dtypes)"
      ],
      "metadata": {
        "id": "_yWkEtdTDvuL"
      },
      "execution_count": null,
      "outputs": []
    },
    {
      "cell_type": "code",
      "source": [
        "# describing the data\n",
        "houses.describe()"
      ],
      "metadata": {
        "id": "da2gIqKZBPZn",
        "colab": {
          "base_uri": "https://localhost:8080/",
          "height": 320
        },
        "outputId": "d5ba45f1-1b09-4857-a96a-3c49a064c454"
      },
      "execution_count": 34,
      "outputs": [
        {
          "output_type": "execute_result",
          "data": {
            "text/plain": [
              "             crim          zn       indus        chas         nox         rm  \\\n",
              "count  404.000000  404.000000  404.000000  404.000000  404.000000  404.00000   \n",
              "mean     3.730912   10.509901   11.189901    0.069307    0.556710    6.30145   \n",
              "std      8.943922   22.053733    6.814909    0.254290    0.117321    0.67583   \n",
              "min      0.006320    0.000000    0.460000    0.000000    0.392000    3.56100   \n",
              "25%      0.082382    0.000000    5.190000    0.000000    0.453000    5.90275   \n",
              "50%      0.253715    0.000000    9.795000    0.000000    0.538000    6.23050   \n",
              "75%      4.053158   12.500000   18.100000    0.000000    0.631000    6.62925   \n",
              "max     88.976200   95.000000   27.740000    1.000000    0.871000    8.78000   \n",
              "\n",
              "              age         dis         rad         tax     ptratio       black  \\\n",
              "count  404.000000  404.000000  404.000000  404.000000  404.000000  404.000000   \n",
              "mean    68.601733    3.799666    9.836634  411.688119   18.444554  355.068243   \n",
              "std     28.066143    2.109916    8.834741  171.073553    2.150295   94.489572   \n",
              "min      2.900000    1.169100    1.000000  187.000000   12.600000    0.320000   \n",
              "25%     45.800000    2.087875    4.000000  281.000000   17.375000  374.710000   \n",
              "50%     76.600000    3.207450    5.000000  330.000000   19.000000  391.065000   \n",
              "75%     94.150000    5.222125   24.000000  666.000000   20.200000  396.007500   \n",
              "max    100.000000   12.126500   24.000000  711.000000   22.000000  396.900000   \n",
              "\n",
              "            lstat        medv  \n",
              "count  404.000000  404.000000  \n",
              "mean    12.598936   22.312376  \n",
              "std      6.925173    8.837019  \n",
              "min      1.730000    5.000000  \n",
              "25%      7.135000   17.100000  \n",
              "50%     11.265000   21.400000  \n",
              "75%     16.910000   25.000000  \n",
              "max     34.370000   50.000000  "
            ],
            "text/html": [
              "\n",
              "  <div id=\"df-f388c9ef-8cd5-4b12-986c-ad5dc1f331e3\" class=\"colab-df-container\">\n",
              "    <div>\n",
              "<style scoped>\n",
              "    .dataframe tbody tr th:only-of-type {\n",
              "        vertical-align: middle;\n",
              "    }\n",
              "\n",
              "    .dataframe tbody tr th {\n",
              "        vertical-align: top;\n",
              "    }\n",
              "\n",
              "    .dataframe thead th {\n",
              "        text-align: right;\n",
              "    }\n",
              "</style>\n",
              "<table border=\"1\" class=\"dataframe\">\n",
              "  <thead>\n",
              "    <tr style=\"text-align: right;\">\n",
              "      <th></th>\n",
              "      <th>crim</th>\n",
              "      <th>zn</th>\n",
              "      <th>indus</th>\n",
              "      <th>chas</th>\n",
              "      <th>nox</th>\n",
              "      <th>rm</th>\n",
              "      <th>age</th>\n",
              "      <th>dis</th>\n",
              "      <th>rad</th>\n",
              "      <th>tax</th>\n",
              "      <th>ptratio</th>\n",
              "      <th>black</th>\n",
              "      <th>lstat</th>\n",
              "      <th>medv</th>\n",
              "    </tr>\n",
              "  </thead>\n",
              "  <tbody>\n",
              "    <tr>\n",
              "      <th>count</th>\n",
              "      <td>404.000000</td>\n",
              "      <td>404.000000</td>\n",
              "      <td>404.000000</td>\n",
              "      <td>404.000000</td>\n",
              "      <td>404.000000</td>\n",
              "      <td>404.00000</td>\n",
              "      <td>404.000000</td>\n",
              "      <td>404.000000</td>\n",
              "      <td>404.000000</td>\n",
              "      <td>404.000000</td>\n",
              "      <td>404.000000</td>\n",
              "      <td>404.000000</td>\n",
              "      <td>404.000000</td>\n",
              "      <td>404.000000</td>\n",
              "    </tr>\n",
              "    <tr>\n",
              "      <th>mean</th>\n",
              "      <td>3.730912</td>\n",
              "      <td>10.509901</td>\n",
              "      <td>11.189901</td>\n",
              "      <td>0.069307</td>\n",
              "      <td>0.556710</td>\n",
              "      <td>6.30145</td>\n",
              "      <td>68.601733</td>\n",
              "      <td>3.799666</td>\n",
              "      <td>9.836634</td>\n",
              "      <td>411.688119</td>\n",
              "      <td>18.444554</td>\n",
              "      <td>355.068243</td>\n",
              "      <td>12.598936</td>\n",
              "      <td>22.312376</td>\n",
              "    </tr>\n",
              "    <tr>\n",
              "      <th>std</th>\n",
              "      <td>8.943922</td>\n",
              "      <td>22.053733</td>\n",
              "      <td>6.814909</td>\n",
              "      <td>0.254290</td>\n",
              "      <td>0.117321</td>\n",
              "      <td>0.67583</td>\n",
              "      <td>28.066143</td>\n",
              "      <td>2.109916</td>\n",
              "      <td>8.834741</td>\n",
              "      <td>171.073553</td>\n",
              "      <td>2.150295</td>\n",
              "      <td>94.489572</td>\n",
              "      <td>6.925173</td>\n",
              "      <td>8.837019</td>\n",
              "    </tr>\n",
              "    <tr>\n",
              "      <th>min</th>\n",
              "      <td>0.006320</td>\n",
              "      <td>0.000000</td>\n",
              "      <td>0.460000</td>\n",
              "      <td>0.000000</td>\n",
              "      <td>0.392000</td>\n",
              "      <td>3.56100</td>\n",
              "      <td>2.900000</td>\n",
              "      <td>1.169100</td>\n",
              "      <td>1.000000</td>\n",
              "      <td>187.000000</td>\n",
              "      <td>12.600000</td>\n",
              "      <td>0.320000</td>\n",
              "      <td>1.730000</td>\n",
              "      <td>5.000000</td>\n",
              "    </tr>\n",
              "    <tr>\n",
              "      <th>25%</th>\n",
              "      <td>0.082382</td>\n",
              "      <td>0.000000</td>\n",
              "      <td>5.190000</td>\n",
              "      <td>0.000000</td>\n",
              "      <td>0.453000</td>\n",
              "      <td>5.90275</td>\n",
              "      <td>45.800000</td>\n",
              "      <td>2.087875</td>\n",
              "      <td>4.000000</td>\n",
              "      <td>281.000000</td>\n",
              "      <td>17.375000</td>\n",
              "      <td>374.710000</td>\n",
              "      <td>7.135000</td>\n",
              "      <td>17.100000</td>\n",
              "    </tr>\n",
              "    <tr>\n",
              "      <th>50%</th>\n",
              "      <td>0.253715</td>\n",
              "      <td>0.000000</td>\n",
              "      <td>9.795000</td>\n",
              "      <td>0.000000</td>\n",
              "      <td>0.538000</td>\n",
              "      <td>6.23050</td>\n",
              "      <td>76.600000</td>\n",
              "      <td>3.207450</td>\n",
              "      <td>5.000000</td>\n",
              "      <td>330.000000</td>\n",
              "      <td>19.000000</td>\n",
              "      <td>391.065000</td>\n",
              "      <td>11.265000</td>\n",
              "      <td>21.400000</td>\n",
              "    </tr>\n",
              "    <tr>\n",
              "      <th>75%</th>\n",
              "      <td>4.053158</td>\n",
              "      <td>12.500000</td>\n",
              "      <td>18.100000</td>\n",
              "      <td>0.000000</td>\n",
              "      <td>0.631000</td>\n",
              "      <td>6.62925</td>\n",
              "      <td>94.150000</td>\n",
              "      <td>5.222125</td>\n",
              "      <td>24.000000</td>\n",
              "      <td>666.000000</td>\n",
              "      <td>20.200000</td>\n",
              "      <td>396.007500</td>\n",
              "      <td>16.910000</td>\n",
              "      <td>25.000000</td>\n",
              "    </tr>\n",
              "    <tr>\n",
              "      <th>max</th>\n",
              "      <td>88.976200</td>\n",
              "      <td>95.000000</td>\n",
              "      <td>27.740000</td>\n",
              "      <td>1.000000</td>\n",
              "      <td>0.871000</td>\n",
              "      <td>8.78000</td>\n",
              "      <td>100.000000</td>\n",
              "      <td>12.126500</td>\n",
              "      <td>24.000000</td>\n",
              "      <td>711.000000</td>\n",
              "      <td>22.000000</td>\n",
              "      <td>396.900000</td>\n",
              "      <td>34.370000</td>\n",
              "      <td>50.000000</td>\n",
              "    </tr>\n",
              "  </tbody>\n",
              "</table>\n",
              "</div>\n",
              "    <div class=\"colab-df-buttons\">\n",
              "\n",
              "  <div class=\"colab-df-container\">\n",
              "    <button class=\"colab-df-convert\" onclick=\"convertToInteractive('df-f388c9ef-8cd5-4b12-986c-ad5dc1f331e3')\"\n",
              "            title=\"Convert this dataframe to an interactive table.\"\n",
              "            style=\"display:none;\">\n",
              "\n",
              "  <svg xmlns=\"http://www.w3.org/2000/svg\" height=\"24px\" viewBox=\"0 -960 960 960\">\n",
              "    <path d=\"M120-120v-720h720v720H120Zm60-500h600v-160H180v160Zm220 220h160v-160H400v160Zm0 220h160v-160H400v160ZM180-400h160v-160H180v160Zm440 0h160v-160H620v160ZM180-180h160v-160H180v160Zm440 0h160v-160H620v160Z\"/>\n",
              "  </svg>\n",
              "    </button>\n",
              "\n",
              "  <style>\n",
              "    .colab-df-container {\n",
              "      display:flex;\n",
              "      gap: 12px;\n",
              "    }\n",
              "\n",
              "    .colab-df-convert {\n",
              "      background-color: #E8F0FE;\n",
              "      border: none;\n",
              "      border-radius: 50%;\n",
              "      cursor: pointer;\n",
              "      display: none;\n",
              "      fill: #1967D2;\n",
              "      height: 32px;\n",
              "      padding: 0 0 0 0;\n",
              "      width: 32px;\n",
              "    }\n",
              "\n",
              "    .colab-df-convert:hover {\n",
              "      background-color: #E2EBFA;\n",
              "      box-shadow: 0px 1px 2px rgba(60, 64, 67, 0.3), 0px 1px 3px 1px rgba(60, 64, 67, 0.15);\n",
              "      fill: #174EA6;\n",
              "    }\n",
              "\n",
              "    .colab-df-buttons div {\n",
              "      margin-bottom: 4px;\n",
              "    }\n",
              "\n",
              "    [theme=dark] .colab-df-convert {\n",
              "      background-color: #3B4455;\n",
              "      fill: #D2E3FC;\n",
              "    }\n",
              "\n",
              "    [theme=dark] .colab-df-convert:hover {\n",
              "      background-color: #434B5C;\n",
              "      box-shadow: 0px 1px 3px 1px rgba(0, 0, 0, 0.15);\n",
              "      filter: drop-shadow(0px 1px 2px rgba(0, 0, 0, 0.3));\n",
              "      fill: #FFFFFF;\n",
              "    }\n",
              "  </style>\n",
              "\n",
              "    <script>\n",
              "      const buttonEl =\n",
              "        document.querySelector('#df-f388c9ef-8cd5-4b12-986c-ad5dc1f331e3 button.colab-df-convert');\n",
              "      buttonEl.style.display =\n",
              "        google.colab.kernel.accessAllowed ? 'block' : 'none';\n",
              "\n",
              "      async function convertToInteractive(key) {\n",
              "        const element = document.querySelector('#df-f388c9ef-8cd5-4b12-986c-ad5dc1f331e3');\n",
              "        const dataTable =\n",
              "          await google.colab.kernel.invokeFunction('convertToInteractive',\n",
              "                                                    [key], {});\n",
              "        if (!dataTable) return;\n",
              "\n",
              "        const docLinkHtml = 'Like what you see? Visit the ' +\n",
              "          '<a target=\"_blank\" href=https://colab.research.google.com/notebooks/data_table.ipynb>data table notebook</a>'\n",
              "          + ' to learn more about interactive tables.';\n",
              "        element.innerHTML = '';\n",
              "        dataTable['output_type'] = 'display_data';\n",
              "        await google.colab.output.renderOutput(dataTable, element);\n",
              "        const docLink = document.createElement('div');\n",
              "        docLink.innerHTML = docLinkHtml;\n",
              "        element.appendChild(docLink);\n",
              "      }\n",
              "    </script>\n",
              "  </div>\n",
              "\n",
              "\n",
              "<div id=\"df-8b51467a-e9d7-4eb3-9682-0b27d679e29f\">\n",
              "  <button class=\"colab-df-quickchart\" onclick=\"quickchart('df-8b51467a-e9d7-4eb3-9682-0b27d679e29f')\"\n",
              "            title=\"Suggest charts\"\n",
              "            style=\"display:none;\">\n",
              "\n",
              "<svg xmlns=\"http://www.w3.org/2000/svg\" height=\"24px\"viewBox=\"0 0 24 24\"\n",
              "     width=\"24px\">\n",
              "    <g>\n",
              "        <path d=\"M19 3H5c-1.1 0-2 .9-2 2v14c0 1.1.9 2 2 2h14c1.1 0 2-.9 2-2V5c0-1.1-.9-2-2-2zM9 17H7v-7h2v7zm4 0h-2V7h2v10zm4 0h-2v-4h2v4z\"/>\n",
              "    </g>\n",
              "</svg>\n",
              "  </button>\n",
              "\n",
              "<style>\n",
              "  .colab-df-quickchart {\n",
              "      --bg-color: #E8F0FE;\n",
              "      --fill-color: #1967D2;\n",
              "      --hover-bg-color: #E2EBFA;\n",
              "      --hover-fill-color: #174EA6;\n",
              "      --disabled-fill-color: #AAA;\n",
              "      --disabled-bg-color: #DDD;\n",
              "  }\n",
              "\n",
              "  [theme=dark] .colab-df-quickchart {\n",
              "      --bg-color: #3B4455;\n",
              "      --fill-color: #D2E3FC;\n",
              "      --hover-bg-color: #434B5C;\n",
              "      --hover-fill-color: #FFFFFF;\n",
              "      --disabled-bg-color: #3B4455;\n",
              "      --disabled-fill-color: #666;\n",
              "  }\n",
              "\n",
              "  .colab-df-quickchart {\n",
              "    background-color: var(--bg-color);\n",
              "    border: none;\n",
              "    border-radius: 50%;\n",
              "    cursor: pointer;\n",
              "    display: none;\n",
              "    fill: var(--fill-color);\n",
              "    height: 32px;\n",
              "    padding: 0;\n",
              "    width: 32px;\n",
              "  }\n",
              "\n",
              "  .colab-df-quickchart:hover {\n",
              "    background-color: var(--hover-bg-color);\n",
              "    box-shadow: 0 1px 2px rgba(60, 64, 67, 0.3), 0 1px 3px 1px rgba(60, 64, 67, 0.15);\n",
              "    fill: var(--button-hover-fill-color);\n",
              "  }\n",
              "\n",
              "  .colab-df-quickchart-complete:disabled,\n",
              "  .colab-df-quickchart-complete:disabled:hover {\n",
              "    background-color: var(--disabled-bg-color);\n",
              "    fill: var(--disabled-fill-color);\n",
              "    box-shadow: none;\n",
              "  }\n",
              "\n",
              "  .colab-df-spinner {\n",
              "    border: 2px solid var(--fill-color);\n",
              "    border-color: transparent;\n",
              "    border-bottom-color: var(--fill-color);\n",
              "    animation:\n",
              "      spin 1s steps(1) infinite;\n",
              "  }\n",
              "\n",
              "  @keyframes spin {\n",
              "    0% {\n",
              "      border-color: transparent;\n",
              "      border-bottom-color: var(--fill-color);\n",
              "      border-left-color: var(--fill-color);\n",
              "    }\n",
              "    20% {\n",
              "      border-color: transparent;\n",
              "      border-left-color: var(--fill-color);\n",
              "      border-top-color: var(--fill-color);\n",
              "    }\n",
              "    30% {\n",
              "      border-color: transparent;\n",
              "      border-left-color: var(--fill-color);\n",
              "      border-top-color: var(--fill-color);\n",
              "      border-right-color: var(--fill-color);\n",
              "    }\n",
              "    40% {\n",
              "      border-color: transparent;\n",
              "      border-right-color: var(--fill-color);\n",
              "      border-top-color: var(--fill-color);\n",
              "    }\n",
              "    60% {\n",
              "      border-color: transparent;\n",
              "      border-right-color: var(--fill-color);\n",
              "    }\n",
              "    80% {\n",
              "      border-color: transparent;\n",
              "      border-right-color: var(--fill-color);\n",
              "      border-bottom-color: var(--fill-color);\n",
              "    }\n",
              "    90% {\n",
              "      border-color: transparent;\n",
              "      border-bottom-color: var(--fill-color);\n",
              "    }\n",
              "  }\n",
              "</style>\n",
              "\n",
              "  <script>\n",
              "    async function quickchart(key) {\n",
              "      const quickchartButtonEl =\n",
              "        document.querySelector('#' + key + ' button');\n",
              "      quickchartButtonEl.disabled = true;  // To prevent multiple clicks.\n",
              "      quickchartButtonEl.classList.add('colab-df-spinner');\n",
              "      try {\n",
              "        const charts = await google.colab.kernel.invokeFunction(\n",
              "            'suggestCharts', [key], {});\n",
              "      } catch (error) {\n",
              "        console.error('Error during call to suggestCharts:', error);\n",
              "      }\n",
              "      quickchartButtonEl.classList.remove('colab-df-spinner');\n",
              "      quickchartButtonEl.classList.add('colab-df-quickchart-complete');\n",
              "    }\n",
              "    (() => {\n",
              "      let quickchartButtonEl =\n",
              "        document.querySelector('#df-8b51467a-e9d7-4eb3-9682-0b27d679e29f button');\n",
              "      quickchartButtonEl.style.display =\n",
              "        google.colab.kernel.accessAllowed ? 'block' : 'none';\n",
              "    })();\n",
              "  </script>\n",
              "</div>\n",
              "    </div>\n",
              "  </div>\n"
            ]
          },
          "metadata": {},
          "execution_count": 34
        }
      ]
    },
    {
      "cell_type": "code",
      "source": [
        "# Checking :D\n",
        "print(houses.isnull().sum(),\"\\n\")\n",
        "print(\"Well, butter my biscuit!\")"
      ],
      "metadata": {
        "id": "nI5P2QckBtH4"
      },
      "execution_count": null,
      "outputs": []
    },
    {
      "cell_type": "code",
      "source": [
        "# Clean the data for outliers --- let's see who is highly correlated. Let's check crim (crime I guess)\n",
        "correlation_matrix = houses.corr()"
      ],
      "metadata": {
        "id": "he-CWjBJM2Ej"
      },
      "execution_count": 8,
      "outputs": []
    },
    {
      "cell_type": "code",
      "source": [
        "sns.scatterplot(x =\"medv\", y = \"crim\", data = houses)\n",
        "plt.xlabel(\"medv\")\n",
        "plt.ylabel(\"crim\")\n",
        "\n",
        "sns.regplot(x =\"medv\", y = \"crim\", data = houses, scatter = False, color = \"orange\")\n",
        "plt.show()\n",
        "# Maybe i can say that the higher the crime rate, the lower the price of houses,\n",
        "# So it's a negative correlation but it sure exists. Some ouliers present, we can check that!\""
      ],
      "metadata": {
        "id": "V1UqZScvEjp-"
      },
      "execution_count": null,
      "outputs": []
    },
    {
      "cell_type": "code",
      "source": [
        "# for ouliers in crim:\n",
        "\n",
        "Q1 = np.quantile(houses[\"crim\"], 0.25)\n",
        "print(f\"the first quartile is {Q1}\")\n",
        "\n",
        "Q2 = np.quantile(houses[\"crim\"], 0.50)\n",
        "print(f\"the second quartile is {Q2}\")\n",
        "\n",
        "Q3 = np.quantile(houses[\"crim\"], 0.75)\n",
        "print(f\"the third quartile is {Q3}\")\n",
        "\n",
        "IQR = Q3 - Q1\n",
        "print(\"Inter quartile range is:\", IQR )\n",
        "\n",
        "upper_bound = Q3 + 1.5 * IQR\n",
        "lower_bound = Q1 - 1.5 * IQR\n",
        "\n",
        "houses_cleaned = houses[(houses[\"crim\"] >= lower_bound) & (houses[\"crim\"] <= upper_bound)]\n",
        "\n",
        "sns.scatterplot(x =\"medv\", y = \"crim\", data = houses_cleaned)\n",
        "plt.xlabel(\"medv\")\n",
        "plt.ylabel(\"crim\")\n",
        "\n",
        "sns.regplot(x =\"medv\", y = \"crim\", data = houses_cleaned, scatter = False, color = \"orange\")\n",
        "plt.show()"
      ],
      "metadata": {
        "id": "ax4ku6-qDvrs",
        "colab": {
          "base_uri": "https://localhost:8080/",
          "height": 518
        },
        "outputId": "0ab99c7a-e563-4516-911f-26022ca203d6"
      },
      "execution_count": 10,
      "outputs": [
        {
          "output_type": "stream",
          "name": "stdout",
          "text": [
            "the first quartile is 0.0823825\n",
            "the second quartile is 0.253715\n",
            "the third quartile is 4.0531575\n",
            "Inter quartile range is: 3.970775\n"
          ]
        },
        {
          "output_type": "display_data",
          "data": {
            "text/plain": [
              "<Figure size 640x480 with 1 Axes>"
            ],
            "image/png": "[encoded data removed]"
          },
          "metadata": {}
        }
      ]
    },
    {
      "cell_type": "code",
      "source": [
        "# Lost some data, but outliers are off and I think it was a good choice\n",
        "print(\"The actual shape of my data is\",houses_cleaned.shape[0],\"rows and\",houses.shape[1],\"columns\")"
      ],
      "metadata": {
        "id": "t6ac7KJ4Dvo_",
        "colab": {
          "base_uri": "https://localhost:8080/"
        },
        "outputId": "08ad104d-289e-4b9d-aee6-49aa0397cd52"
      },
      "execution_count": 11,
      "outputs": [
        {
          "output_type": "stream",
          "name": "stdout",
          "text": [
            "The actual shape of my data is 362 rows and 14 columns\n"
          ]
        }
      ]
    },
    {
      "cell_type": "code",
      "source": [],
      "metadata": {
        "id": "I4m5TgyZYXqS"
      },
      "execution_count": 11,
      "outputs": []
    },
    {
      "cell_type": "markdown",
      "metadata": {
        "id": "NK-rC_1I-gHP"
      },
      "source": [
        "### Next, we want to explore the data. Pick several varibables you think will be ost correlated with the prices of homes in Boston, and create plots that show the data dispersion as well as the regression line of best fit."
      ]
    },
    {
      "cell_type": "code",
      "source": [
        "# Pick several varibables you think will be ost correlated with the prices of homes: # rm and lstat (lstat: Percentage of lower status of the population),\n",
        "correlation_matrix = houses_cleaned.corr()\n",
        "correlation_matrix"
      ],
      "metadata": {
        "id": "0TmOwo7TWyhr",
        "colab": {
          "base_uri": "https://localhost:8080/",
          "height": 488
        },
        "outputId": "55c3d0c6-336e-4115-9c38-8f7a557369d1"
      },
      "execution_count": 37,
      "outputs": [
        {
          "output_type": "execute_result",
          "data": {
            "text/plain": [
              "             crim        zn     indus      chas       nox        rm       age  \\\n",
              "crim     1.000000 -0.282928  0.593881  0.023782  0.640972 -0.122039  0.459131   \n",
              "zn      -0.282928  1.000000 -0.514203 -0.053334 -0.480623  0.301390 -0.531892   \n",
              "indus    0.593881 -0.514203  1.000000  0.098551  0.737808 -0.332588  0.589524   \n",
              "chas     0.023782 -0.053334  0.098551  1.000000  0.140207  0.078806  0.120631   \n",
              "nox      0.640972 -0.480623  0.737808  0.140207  1.000000 -0.236514  0.706229   \n",
              "rm      -0.122039  0.301390 -0.332588  0.078806 -0.236514  1.000000 -0.166433   \n",
              "age      0.459131 -0.531892  0.589524  0.120631  0.706229 -0.166433  1.000000   \n",
              "dis     -0.475349  0.651302 -0.664366 -0.143550 -0.740254  0.124146 -0.706650   \n",
              "rad      0.896342 -0.269258  0.543895  0.033898  0.554059 -0.079454  0.376711   \n",
              "tax      0.831952 -0.243309  0.676960  0.003981  0.614222 -0.175677  0.425778   \n",
              "ptratio  0.341456 -0.344063  0.288803 -0.100340  0.084861 -0.306116  0.160448   \n",
              "black   -0.429798  0.151780 -0.343997  0.004691 -0.387109  0.099406 -0.231330   \n",
              "lstat    0.446840 -0.406753  0.568671  0.002704  0.538675 -0.583999  0.569988   \n",
              "medv    -0.337100  0.327928 -0.432661  0.116882 -0.351961  0.734763 -0.315558   \n",
              "\n",
              "              dis       rad       tax   ptratio     black     lstat      medv  \n",
              "crim    -0.475349  0.896342  0.831952  0.341456 -0.429798  0.446840 -0.337100  \n",
              "zn       0.651302 -0.269258 -0.243309 -0.344063  0.151780 -0.406753  0.327928  \n",
              "indus   -0.664366  0.543895  0.676960  0.288803 -0.343997  0.568671 -0.432661  \n",
              "chas    -0.143550  0.033898  0.003981 -0.100340  0.004691  0.002704  0.116882  \n",
              "nox     -0.740254  0.554059  0.614222  0.084861 -0.387109  0.538675 -0.351961  \n",
              "rm       0.124146 -0.079454 -0.175677 -0.306116  0.099406 -0.583999  0.734763  \n",
              "age     -0.706650  0.376711  0.425778  0.160448 -0.231330  0.569988 -0.315558  \n",
              "dis      1.000000 -0.405744 -0.439598 -0.124357  0.253712 -0.432636  0.155347  \n",
              "rad     -0.405744  1.000000  0.886990  0.417200 -0.395005  0.348433 -0.277302  \n",
              "tax     -0.439598  0.886990  1.000000  0.392383 -0.400352  0.424275 -0.382300  \n",
              "ptratio -0.124357  0.417200  0.392383  1.000000 -0.112006  0.275394 -0.458432  \n",
              "black    0.253712 -0.395005 -0.400352 -0.112006  1.000000 -0.333761  0.308605  \n",
              "lstat   -0.432636  0.348433  0.424275  0.275394 -0.333761  1.000000 -0.707234  \n",
              "medv     0.155347 -0.277302 -0.382300 -0.458432  0.308605 -0.707234  1.000000  "
            ],
            "text/html": [
              "\n",
              "  <div id=\"df-fd5c8313-96aa-4e08-b984-53e2f10a23e5\" class=\"colab-df-container\">\n",
              "    <div>\n",
              "<style scoped>\n",
              "    .dataframe tbody tr th:only-of-type {\n",
              "        vertical-align: middle;\n",
              "    }\n",
              "\n",
              "    .dataframe tbody tr th {\n",
              "        vertical-align: top;\n",
              "    }\n",
              "\n",
              "    .dataframe thead th {\n",
              "        text-align: right;\n",
              "    }\n",
              "</style>\n",
              "<table border=\"1\" class=\"dataframe\">\n",
              "  <thead>\n",
              "    <tr style=\"text-align: right;\">\n",
              "      <th></th>\n",
              "      <th>crim</th>\n",
              "      <th>zn</th>\n",
              "      <th>indus</th>\n",
              "      <th>chas</th>\n",
              "      <th>nox</th>\n",
              "      <th>rm</th>\n",
              "      <th>age</th>\n",
              "      <th>dis</th>\n",
              "      <th>rad</th>\n",
              "      <th>tax</th>\n",
              "      <th>ptratio</th>\n",
              "      <th>black</th>\n",
              "      <th>lstat</th>\n",
              "      <th>medv</th>\n",
              "    </tr>\n",
              "  </thead>\n",
              "  <tbody>\n",
              "    <tr>\n",
              "      <th>crim</th>\n",
              "      <td>1.000000</td>\n",
              "      <td>-0.282928</td>\n",
              "      <td>0.593881</td>\n",
              "      <td>0.023782</td>\n",
              "      <td>0.640972</td>\n",
              "      <td>-0.122039</td>\n",
              "      <td>0.459131</td>\n",
              "      <td>-0.475349</td>\n",
              "      <td>0.896342</td>\n",
              "      <td>0.831952</td>\n",
              "      <td>0.341456</td>\n",
              "      <td>-0.429798</td>\n",
              "      <td>0.446840</td>\n",
              "      <td>-0.337100</td>\n",
              "    </tr>\n",
              "    <tr>\n",
              "      <th>zn</th>\n",
              "      <td>-0.282928</td>\n",
              "      <td>1.000000</td>\n",
              "      <td>-0.514203</td>\n",
              "      <td>-0.053334</td>\n",
              "      <td>-0.480623</td>\n",
              "      <td>0.301390</td>\n",
              "      <td>-0.531892</td>\n",
              "      <td>0.651302</td>\n",
              "      <td>-0.269258</td>\n",
              "      <td>-0.243309</td>\n",
              "      <td>-0.344063</td>\n",
              "      <td>0.151780</td>\n",
              "      <td>-0.406753</td>\n",
              "      <td>0.327928</td>\n",
              "    </tr>\n",
              "    <tr>\n",
              "      <th>indus</th>\n",
              "      <td>0.593881</td>\n",
              "      <td>-0.514203</td>\n",
              "      <td>1.000000</td>\n",
              "      <td>0.098551</td>\n",
              "      <td>0.737808</td>\n",
              "      <td>-0.332588</td>\n",
              "      <td>0.589524</td>\n",
              "      <td>-0.664366</td>\n",
              "      <td>0.543895</td>\n",
              "      <td>0.676960</td>\n",
              "      <td>0.288803</td>\n",
              "      <td>-0.343997</td>\n",
              "      <td>0.568671</td>\n",
              "      <td>-0.432661</td>\n",
              "    </tr>\n",
              "    <tr>\n",
              "      <th>chas</th>\n",
              "      <td>0.023782</td>\n",
              "      <td>-0.053334</td>\n",
              "      <td>0.098551</td>\n",
              "      <td>1.000000</td>\n",
              "      <td>0.140207</td>\n",
              "      <td>0.078806</td>\n",
              "      <td>0.120631</td>\n",
              "      <td>-0.143550</td>\n",
              "      <td>0.033898</td>\n",
              "      <td>0.003981</td>\n",
              "      <td>-0.100340</td>\n",
              "      <td>0.004691</td>\n",
              "      <td>0.002704</td>\n",
              "      <td>0.116882</td>\n",
              "    </tr>\n",
              "    <tr>\n",
              "      <th>nox</th>\n",
              "      <td>0.640972</td>\n",
              "      <td>-0.480623</td>\n",
              "      <td>0.737808</td>\n",
              "      <td>0.140207</td>\n",
              "      <td>1.000000</td>\n",
              "      <td>-0.236514</td>\n",
              "      <td>0.706229</td>\n",
              "      <td>-0.740254</td>\n",
              "      <td>0.554059</td>\n",
              "      <td>0.614222</td>\n",
              "      <td>0.084861</td>\n",
              "      <td>-0.387109</td>\n",
              "      <td>0.538675</td>\n",
              "      <td>-0.351961</td>\n",
              "    </tr>\n",
              "    <tr>\n",
              "      <th>rm</th>\n",
              "      <td>-0.122039</td>\n",
              "      <td>0.301390</td>\n",
              "      <td>-0.332588</td>\n",
              "      <td>0.078806</td>\n",
              "      <td>-0.236514</td>\n",
              "      <td>1.000000</td>\n",
              "      <td>-0.166433</td>\n",
              "      <td>0.124146</td>\n",
              "      <td>-0.079454</td>\n",
              "      <td>-0.175677</td>\n",
              "      <td>-0.306116</td>\n",
              "      <td>0.099406</td>\n",
              "      <td>-0.583999</td>\n",
              "      <td>0.734763</td>\n",
              "    </tr>\n",
              "    <tr>\n",
              "      <th>age</th>\n",
              "      <td>0.459131</td>\n",
              "      <td>-0.531892</td>\n",
              "      <td>0.589524</td>\n",
              "      <td>0.120631</td>\n",
              "      <td>0.706229</td>\n",
              "      <td>-0.166433</td>\n",
              "      <td>1.000000</td>\n",
              "      <td>-0.706650</td>\n",
              "      <td>0.376711</td>\n",
              "      <td>0.425778</td>\n",
              "      <td>0.160448</td>\n",
              "      <td>-0.231330</td>\n",
              "      <td>0.569988</td>\n",
              "      <td>-0.315558</td>\n",
              "    </tr>\n",
              "    <tr>\n",
              "      <th>dis</th>\n",
              "      <td>-0.475349</td>\n",
              "      <td>0.651302</td>\n",
              "      <td>-0.664366</td>\n",
              "      <td>-0.143550</td>\n",
              "      <td>-0.740254</td>\n",
              "      <td>0.124146</td>\n",
              "      <td>-0.706650</td>\n",
              "      <td>1.000000</td>\n",
              "      <td>-0.405744</td>\n",
              "      <td>-0.439598</td>\n",
              "      <td>-0.124357</td>\n",
              "      <td>0.253712</td>\n",
              "      <td>-0.432636</td>\n",
              "      <td>0.155347</td>\n",
              "    </tr>\n",
              "    <tr>\n",
              "      <th>rad</th>\n",
              "      <td>0.896342</td>\n",
              "      <td>-0.269258</td>\n",
              "      <td>0.543895</td>\n",
              "      <td>0.033898</td>\n",
              "      <td>0.554059</td>\n",
              "      <td>-0.079454</td>\n",
              "      <td>0.376711</td>\n",
              "      <td>-0.405744</td>\n",
              "      <td>1.000000</td>\n",
              "      <td>0.886990</td>\n",
              "      <td>0.417200</td>\n",
              "      <td>-0.395005</td>\n",
              "      <td>0.348433</td>\n",
              "      <td>-0.277302</td>\n",
              "    </tr>\n",
              "    <tr>\n",
              "      <th>tax</th>\n",
              "      <td>0.831952</td>\n",
              "      <td>-0.243309</td>\n",
              "      <td>0.676960</td>\n",
              "      <td>0.003981</td>\n",
              "      <td>0.614222</td>\n",
              "      <td>-0.175677</td>\n",
              "      <td>0.425778</td>\n",
              "      <td>-0.439598</td>\n",
              "      <td>0.886990</td>\n",
              "      <td>1.000000</td>\n",
              "      <td>0.392383</td>\n",
              "      <td>-0.400352</td>\n",
              "      <td>0.424275</td>\n",
              "      <td>-0.382300</td>\n",
              "    </tr>\n",
              "    <tr>\n",
              "      <th>ptratio</th>\n",
              "      <td>0.341456</td>\n",
              "      <td>-0.344063</td>\n",
              "      <td>0.288803</td>\n",
              "      <td>-0.100340</td>\n",
              "      <td>0.084861</td>\n",
              "      <td>-0.306116</td>\n",
              "      <td>0.160448</td>\n",
              "      <td>-0.124357</td>\n",
              "      <td>0.417200</td>\n",
              "      <td>0.392383</td>\n",
              "      <td>1.000000</td>\n",
              "      <td>-0.112006</td>\n",
              "      <td>0.275394</td>\n",
              "      <td>-0.458432</td>\n",
              "    </tr>\n",
              "    <tr>\n",
              "      <th>black</th>\n",
              "      <td>-0.429798</td>\n",
              "      <td>0.151780</td>\n",
              "      <td>-0.343997</td>\n",
              "      <td>0.004691</td>\n",
              "      <td>-0.387109</td>\n",
              "      <td>0.099406</td>\n",
              "      <td>-0.231330</td>\n",
              "      <td>0.253712</td>\n",
              "      <td>-0.395005</td>\n",
              "      <td>-0.400352</td>\n",
              "      <td>-0.112006</td>\n",
              "      <td>1.000000</td>\n",
              "      <td>-0.333761</td>\n",
              "      <td>0.308605</td>\n",
              "    </tr>\n",
              "    <tr>\n",
              "      <th>lstat</th>\n",
              "      <td>0.446840</td>\n",
              "      <td>-0.406753</td>\n",
              "      <td>0.568671</td>\n",
              "      <td>0.002704</td>\n",
              "      <td>0.538675</td>\n",
              "      <td>-0.583999</td>\n",
              "      <td>0.569988</td>\n",
              "      <td>-0.432636</td>\n",
              "      <td>0.348433</td>\n",
              "      <td>0.424275</td>\n",
              "      <td>0.275394</td>\n",
              "      <td>-0.333761</td>\n",
              "      <td>1.000000</td>\n",
              "      <td>-0.707234</td>\n",
              "    </tr>\n",
              "    <tr>\n",
              "      <th>medv</th>\n",
              "      <td>-0.337100</td>\n",
              "      <td>0.327928</td>\n",
              "      <td>-0.432661</td>\n",
              "      <td>0.116882</td>\n",
              "      <td>-0.351961</td>\n",
              "      <td>0.734763</td>\n",
              "      <td>-0.315558</td>\n",
              "      <td>0.155347</td>\n",
              "      <td>-0.277302</td>\n",
              "      <td>-0.382300</td>\n",
              "      <td>-0.458432</td>\n",
              "      <td>0.308605</td>\n",
              "      <td>-0.707234</td>\n",
              "      <td>1.000000</td>\n",
              "    </tr>\n",
              "  </tbody>\n",
              "</table>\n",
              "</div>\n",
              "    <div class=\"colab-df-buttons\">\n",
              "\n",
              "  <div class=\"colab-df-container\">\n",
              "    <button class=\"colab-df-convert\" onclick=\"convertToInteractive('df-fd5c8313-96aa-4e08-b984-53e2f10a23e5')\"\n",
              "            title=\"Convert this dataframe to an interactive table.\"\n",
              "            style=\"display:none;\">\n",
              "\n",
              "  <svg xmlns=\"http://www.w3.org/2000/svg\" height=\"24px\" viewBox=\"0 -960 960 960\">\n",
              "    <path d=\"M120-120v-720h720v720H120Zm60-500h600v-160H180v160Zm220 220h160v-160H400v160Zm0 220h160v-160H400v160ZM180-400h160v-160H180v160Zm440 0h160v-160H620v160ZM180-180h160v-160H180v160Zm440 0h160v-160H620v160Z\"/>\n",
              "  </svg>\n",
              "    </button>\n",
              "\n",
              "  <style>\n",
              "    .colab-df-container {\n",
              "      display:flex;\n",
              "      gap: 12px;\n",
              "    }\n",
              "\n",
              "    .colab-df-convert {\n",
              "      background-color: #E8F0FE;\n",
              "      border: none;\n",
              "      border-radius: 50%;\n",
              "      cursor: pointer;\n",
              "      display: none;\n",
              "      fill: #1967D2;\n",
              "      height: 32px;\n",
              "      padding: 0 0 0 0;\n",
              "      width: 32px;\n",
              "    }\n",
              "\n",
              "    .colab-df-convert:hover {\n",
              "      background-color: #E2EBFA;\n",
              "      box-shadow: 0px 1px 2px rgba(60, 64, 67, 0.3), 0px 1px 3px 1px rgba(60, 64, 67, 0.15);\n",
              "      fill: #174EA6;\n",
              "    }\n",
              "\n",
              "    .colab-df-buttons div {\n",
              "      margin-bottom: 4px;\n",
              "    }\n",
              "\n",
              "    [theme=dark] .colab-df-convert {\n",
              "      background-color: #3B4455;\n",
              "      fill: #D2E3FC;\n",
              "    }\n",
              "\n",
              "    [theme=dark] .colab-df-convert:hover {\n",
              "      background-color: #434B5C;\n",
              "      box-shadow: 0px 1px 3px 1px rgba(0, 0, 0, 0.15);\n",
              "      filter: drop-shadow(0px 1px 2px rgba(0, 0, 0, 0.3));\n",
              "      fill: #FFFFFF;\n",
              "    }\n",
              "  </style>\n",
              "\n",
              "    <script>\n",
              "      const buttonEl =\n",
              "        document.querySelector('#df-fd5c8313-96aa-4e08-b984-53e2f10a23e5 button.colab-df-convert');\n",
              "      buttonEl.style.display =\n",
              "        google.colab.kernel.accessAllowed ? 'block' : 'none';\n",
              "\n",
              "      async function convertToInteractive(key) {\n",
              "        const element = document.querySelector('#df-fd5c8313-96aa-4e08-b984-53e2f10a23e5');\n",
              "        const dataTable =\n",
              "          await google.colab.kernel.invokeFunction('convertToInteractive',\n",
              "                                                    [key], {});\n",
              "        if (!dataTable) return;\n",
              "\n",
              "        const docLinkHtml = 'Like what you see? Visit the ' +\n",
              "          '<a target=\"_blank\" href=https://colab.research.google.com/notebooks/data_table.ipynb>data table notebook</a>'\n",
              "          + ' to learn more about interactive tables.';\n",
              "        element.innerHTML = '';\n",
              "        dataTable['output_type'] = 'display_data';\n",
              "        await google.colab.output.renderOutput(dataTable, element);\n",
              "        const docLink = document.createElement('div');\n",
              "        docLink.innerHTML = docLinkHtml;\n",
              "        element.appendChild(docLink);\n",
              "      }\n",
              "    </script>\n",
              "  </div>\n",
              "\n",
              "\n",
              "<div id=\"df-5405e446-f222-4e8d-a3c0-d8abfb93387e\">\n",
              "  <button class=\"colab-df-quickchart\" onclick=\"quickchart('df-5405e446-f222-4e8d-a3c0-d8abfb93387e')\"\n",
              "            title=\"Suggest charts\"\n",
              "            style=\"display:none;\">\n",
              "\n",
              "<svg xmlns=\"http://www.w3.org/2000/svg\" height=\"24px\"viewBox=\"0 0 24 24\"\n",
              "     width=\"24px\">\n",
              "    <g>\n",
              "        <path d=\"M19 3H5c-1.1 0-2 .9-2 2v14c0 1.1.9 2 2 2h14c1.1 0 2-.9 2-2V5c0-1.1-.9-2-2-2zM9 17H7v-7h2v7zm4 0h-2V7h2v10zm4 0h-2v-4h2v4z\"/>\n",
              "    </g>\n",
              "</svg>\n",
              "  </button>\n",
              "\n",
              "<style>\n",
              "  .colab-df-quickchart {\n",
              "      --bg-color: #E8F0FE;\n",
              "      --fill-color: #1967D2;\n",
              "      --hover-bg-color: #E2EBFA;\n",
              "      --hover-fill-color: #174EA6;\n",
              "      --disabled-fill-color: #AAA;\n",
              "      --disabled-bg-color: #DDD;\n",
              "  }\n",
              "\n",
              "  [theme=dark] .colab-df-quickchart {\n",
              "      --bg-color: #3B4455;\n",
              "      --fill-color: #D2E3FC;\n",
              "      --hover-bg-color: #434B5C;\n",
              "      --hover-fill-color: #FFFFFF;\n",
              "      --disabled-bg-color: #3B4455;\n",
              "      --disabled-fill-color: #666;\n",
              "  }\n",
              "\n",
              "  .colab-df-quickchart {\n",
              "    background-color: var(--bg-color);\n",
              "    border: none;\n",
              "    border-radius: 50%;\n",
              "    cursor: pointer;\n",
              "    display: none;\n",
              "    fill: var(--fill-color);\n",
              "    height: 32px;\n",
              "    padding: 0;\n",
              "    width: 32px;\n",
              "  }\n",
              "\n",
              "  .colab-df-quickchart:hover {\n",
              "    background-color: var(--hover-bg-color);\n",
              "    box-shadow: 0 1px 2px rgba(60, 64, 67, 0.3), 0 1px 3px 1px rgba(60, 64, 67, 0.15);\n",
              "    fill: var(--button-hover-fill-color);\n",
              "  }\n",
              "\n",
              "  .colab-df-quickchart-complete:disabled,\n",
              "  .colab-df-quickchart-complete:disabled:hover {\n",
              "    background-color: var(--disabled-bg-color);\n",
              "    fill: var(--disabled-fill-color);\n",
              "    box-shadow: none;\n",
              "  }\n",
              "\n",
              "  .colab-df-spinner {\n",
              "    border: 2px solid var(--fill-color);\n",
              "    border-color: transparent;\n",
              "    border-bottom-color: var(--fill-color);\n",
              "    animation:\n",
              "      spin 1s steps(1) infinite;\n",
              "  }\n",
              "\n",
              "  @keyframes spin {\n",
              "    0% {\n",
              "      border-color: transparent;\n",
              "      border-bottom-color: var(--fill-color);\n",
              "      border-left-color: var(--fill-color);\n",
              "    }\n",
              "    20% {\n",
              "      border-color: transparent;\n",
              "      border-left-color: var(--fill-color);\n",
              "      border-top-color: var(--fill-color);\n",
              "    }\n",
              "    30% {\n",
              "      border-color: transparent;\n",
              "      border-left-color: var(--fill-color);\n",
              "      border-top-color: var(--fill-color);\n",
              "      border-right-color: var(--fill-color);\n",
              "    }\n",
              "    40% {\n",
              "      border-color: transparent;\n",
              "      border-right-color: var(--fill-color);\n",
              "      border-top-color: var(--fill-color);\n",
              "    }\n",
              "    60% {\n",
              "      border-color: transparent;\n",
              "      border-right-color: var(--fill-color);\n",
              "    }\n",
              "    80% {\n",
              "      border-color: transparent;\n",
              "      border-right-color: var(--fill-color);\n",
              "      border-bottom-color: var(--fill-color);\n",
              "    }\n",
              "    90% {\n",
              "      border-color: transparent;\n",
              "      border-bottom-color: var(--fill-color);\n",
              "    }\n",
              "  }\n",
              "</style>\n",
              "\n",
              "  <script>\n",
              "    async function quickchart(key) {\n",
              "      const quickchartButtonEl =\n",
              "        document.querySelector('#' + key + ' button');\n",
              "      quickchartButtonEl.disabled = true;  // To prevent multiple clicks.\n",
              "      quickchartButtonEl.classList.add('colab-df-spinner');\n",
              "      try {\n",
              "        const charts = await google.colab.kernel.invokeFunction(\n",
              "            'suggestCharts', [key], {});\n",
              "      } catch (error) {\n",
              "        console.error('Error during call to suggestCharts:', error);\n",
              "      }\n",
              "      quickchartButtonEl.classList.remove('colab-df-spinner');\n",
              "      quickchartButtonEl.classList.add('colab-df-quickchart-complete');\n",
              "    }\n",
              "    (() => {\n",
              "      let quickchartButtonEl =\n",
              "        document.querySelector('#df-5405e446-f222-4e8d-a3c0-d8abfb93387e button');\n",
              "      quickchartButtonEl.style.display =\n",
              "        google.colab.kernel.accessAllowed ? 'block' : 'none';\n",
              "    })();\n",
              "  </script>\n",
              "</div>\n",
              "    </div>\n",
              "  </div>\n"
            ]
          },
          "metadata": {},
          "execution_count": 37
        }
      ]
    },
    {
      "cell_type": "code",
      "source": [
        "### for RM\n",
        "from sklearn.linear_model import LinearRegression\n",
        "\n",
        "x = houses_cleaned[[\"medv\"]]\n",
        "y = houses_cleaned[\"rm\"]\n",
        "\n",
        "model = LinearRegression()\n",
        "model.fit(x,y)\n",
        "slope = model.coef_\n",
        "interception = model.intercept_\n",
        "reg_line = interception + slope*x\n",
        "print(f\"Slope of our reg line is {slope} \\n and the Y-intercept is {interception}\")\n",
        "\n",
        "sns.scatterplot(x =\"medv\", y = \"rm\", data = houses_cleaned)\n",
        "plt.xlabel(\"medv\")\n",
        "plt.ylabel(\"rm\")\n",
        "\n",
        "sns.regplot(x =\"medv\", y = \"rm\", data = houses_cleaned, scatter = False, color = \"orange\")\n",
        "plt.show()"
      ],
      "metadata": {
        "id": "NTuYLJEIY4fx",
        "colab": {
          "base_uri": "https://localhost:8080/",
          "height": 487
        },
        "outputId": "ad41a718-6c92-4bcd-d9ab-57df7530dc21"
      },
      "execution_count": 13,
      "outputs": [
        {
          "output_type": "stream",
          "name": "stdout",
          "text": [
            "Slope of our reg line is [0.05627961] \n",
            " and the Y-intercept is 5.027059343593972\n"
          ]
        },
        {
          "output_type": "display_data",
          "data": {
            "text/plain": [
              "<Figure size 640x480 with 1 Axes>"
            ],
            "image/png": "[encoded data removed]"
          },
          "metadata": {}
        }
      ]
    },
    {
      "cell_type": "code",
      "source": [
        "# Lets see \"Istat\" now\n",
        "x = houses_cleaned[[\"medv\"]]\n",
        "y = houses_cleaned[\"lstat\"]\n",
        "\n",
        "model = LinearRegression()\n",
        "model.fit(x,y)\n",
        "slope = model.coef_\n",
        "interception = model.intercept_\n",
        "reg_line = interception + slope*x\n",
        "print(f\"Slope of our reg line is {slope} \\n and the Y-intercept is {interception}\")\n",
        "\n",
        "sns.scatterplot(x =\"medv\", y = \"lstat\", data = houses_cleaned)\n",
        "plt.xlabel(\"medv\")\n",
        "plt.ylabel(\"lstat\")\n",
        "\n",
        "sns.regplot(x =\"medv\", y = \"lstat\", data = houses_cleaned, scatter = False, color = \"orange\")\n",
        "plt.show()"
      ],
      "metadata": {
        "id": "StEEP8Z9BPWh"
      },
      "execution_count": null,
      "outputs": []
    },
    {
      "cell_type": "markdown",
      "metadata": {
        "id": "ch7WYV45-gHP"
      },
      "source": [
        "### What do these plots tell you about the relationships between these variables and the prices of homes in Boston? Are these the relationships you expected to see in these variables?"
      ]
    },
    {
      "cell_type": "code",
      "execution_count": 15,
      "metadata": {
        "id": "ENegKNSN-gHQ"
      },
      "outputs": [],
      "source": [
        "# Checking room average:\n",
        "# For every additional room, we can see an increase in the median value of houses by the slope value (0.056).\n",
        "\n",
        "# Checking lstat: Percentage of lower status of the population\n",
        "# The higher the \"lstat\", the median value of houses ()\"medv\") is expected to decrease - slope value (-0.515)."
      ]
    },
    {
      "cell_type": "markdown",
      "metadata": {
        "id": "dTm1eO__-gHQ"
      },
      "source": [
        "### Make a heatmap of the remaining variables. Are there any variables that you did not consider that have very high correlations? What are they?"
      ]
    },
    {
      "cell_type": "code",
      "source": [
        "houses_cleaned.columns"
      ],
      "metadata": {
        "id": "yJ8mDmf9ttJu",
        "colab": {
          "base_uri": "https://localhost:8080/"
        },
        "outputId": "e569383d-e1a2-4422-9bfa-505a01260a7f"
      },
      "execution_count": 16,
      "outputs": [
        {
          "output_type": "execute_result",
          "data": {
            "text/plain": [
              "Index(['crim', 'zn', 'indus', 'chas', 'nox', 'rm', 'age', 'dis', 'rad', 'tax',\n",
              "       'ptratio', 'black', 'lstat', 'medv'],\n",
              "      dtype='object')"
            ]
          },
          "metadata": {},
          "execution_count": 16
        }
      ]
    },
    {
      "cell_type": "code",
      "execution_count": 17,
      "metadata": {
        "id": "OYYD5IyD-gHP",
        "colab": {
          "base_uri": "https://localhost:8080/",
          "height": 928
        },
        "outputId": "f77e1263-89e3-49b8-a22f-b857d2577467"
      },
      "outputs": [
        {
          "output_type": "display_data",
          "data": {
            "text/plain": [
              "<Figure size 1400x1400 with 2 Axes>"
            ],
            "image/png": "[encoded data removed]"
          },
          "metadata": {}
        }
      ],
      "source": [
        "# heatmap from calss\n",
        "remaining_variables = ['crim', 'zn', 'indus', 'chas', 'nox', 'age', 'dis', 'rad', 'tax','ptratio', 'black', 'medv']\n",
        "\n",
        "corr=np.abs(houses_cleaned[remaining_variables].corr())\n",
        "\n",
        "#Set up mask for triangle representation\n",
        "mask = np.zeros_like(corr, dtype=bool)\n",
        "mask[np.triu_indices_from(mask)] = True\n",
        "\n",
        "# Set up the matplotlib figure\n",
        "f, ax = plt.subplots(figsize=(14, 14))\n",
        "# Generate a custom diverging colormap\n",
        "cmap = sns.diverging_palette(220, 10, as_cmap=True)\n",
        "# Draw the heatmap with the mask and correct aspect ratio\n",
        "sns.heatmap(corr, mask=mask,  vmax=1,square=True, linewidths=.5, cbar_kws={\"shrink\": .5},annot = corr)\n",
        "\n",
        "plt.show()"
      ]
    },
    {
      "cell_type": "code",
      "source": [
        "# Are there any variables that you did not consider that have very high correlations? What are they?\n",
        "# tax (property tax rate per $10,000), ptratio(p-teacher ratio by town --- this actually exists!!!!)and indus(proportion of non-retail business acres per town)"
      ],
      "metadata": {
        "id": "qSQ0FQBrfsZS"
      },
      "execution_count": 18,
      "outputs": []
    },
    {
      "cell_type": "markdown",
      "metadata": {
        "id": "iBzZVw1o-gHR"
      },
      "source": [
        "### Calculate Statistics\n",
        "Calculate descriptive statistics for housing price. Include the minimum, maximum, mean, median, and standard deviation."
      ]
    },
    {
      "cell_type": "code",
      "source": [
        "house_value = houses_cleaned[\"medv\"].describe()\n",
        "house_value"
      ],
      "metadata": {
        "id": "Xv7PAAi-gyoL",
        "colab": {
          "base_uri": "https://localhost:8080/"
        },
        "outputId": "1024ad10-af4a-4a91-c271-7ff492cdc237"
      },
      "execution_count": 19,
      "outputs": [
        {
          "output_type": "execute_result",
          "data": {
            "text/plain": [
              "count    362.000000\n",
              "mean      23.488950\n",
              "std        8.426034\n",
              "min        6.300000\n",
              "25%       18.700000\n",
              "50%       22.000000\n",
              "75%       26.475000\n",
              "max       50.000000\n",
              "Name: medv, dtype: float64"
            ]
          },
          "metadata": {},
          "execution_count": 19
        }
      ]
    },
    {
      "cell_type": "code",
      "source": [
        "# For exercice statistics\n",
        "print(\"minimum value is\", house_value[\"min\"])\n",
        "print(\"maximum value is\", house_value[\"max\"])\n",
        "print(\"mean value is\", house_value[\"mean\"])\n",
        "print(\"meadian value is the same as q2 which is\", house_value[\"50%\"])\n",
        "print(\"standard deviation value is\", house_value[\"std\"])\n",
        "print(\"All in hundred thousand dollars, I guess :D \")"
      ],
      "metadata": {
        "id": "ZhYJVBSBgmlG",
        "colab": {
          "base_uri": "https://localhost:8080/"
        },
        "outputId": "649d706a-8d47-4323-9c70-e29c0b5d1b12"
      },
      "execution_count": 20,
      "outputs": [
        {
          "output_type": "stream",
          "name": "stdout",
          "text": [
            "minimum value is 6.3\n",
            "maximum value is 50.0\n",
            "mean value is 23.488950276243095\n",
            "meadian value is the same as q2 which is 22.0\n",
            "standard deviation value is 8.426034020257697\n",
            "All in hundred thousand dollars, I guess :D \n"
          ]
        }
      ]
    },
    {
      "cell_type": "markdown",
      "metadata": {
        "id": "niHn5gQT-gHR"
      },
      "source": [
        "----\n",
        "\n",
        "## Developing a Model"
      ]
    },
    {
      "cell_type": "markdown",
      "metadata": {
        "id": "i0bQsQQt-gHR"
      },
      "source": [
        "### Implementation: Define a Performance Metric\n",
        "What is the performance meteric with which you will determine the performance of your model? Create a function that calculates this performance metric, and then returns the score."
      ]
    },
    {
      "cell_type": "code",
      "execution_count": 38,
      "metadata": {
        "id": "olGbDVdS-gHS"
      },
      "outputs": [],
      "source": [
        "from sklearn.metrics import r2_score, mean_squared_error # because we are talking of values let's add RMSE too, like \"Show me the moneeeeey - by Tom Cruise\""
      ]
    },
    {
      "cell_type": "code",
      "source": [
        "def cool_function_model(y_true, y_predict):\n",
        "    r2 = r2_score(y_true, y_predict)\n",
        "    return r2"
      ],
      "metadata": {
        "id": "7nsseg6-kQXr"
      },
      "execution_count": 39,
      "outputs": []
    },
    {
      "cell_type": "code",
      "source": [
        "# Let's see if it works :D\n",
        "from sklearn.model_selection import train_test_split\n",
        "\n",
        "features = houses_cleaned.drop(columns=[\"medv\"])\n",
        "target = houses_cleaned[\"medv\"]\n",
        "\n",
        "X_train, X_test, y_train, y_test = train_test_split(features, target, test_size=0.20, random_state=0)\n",
        "\n",
        "ln_model = LinearRegression()\n",
        "ln_model.fit(X_train, y_train)\n",
        "print(ln_model.score(X_train, y_train))\n",
        "\n",
        "pred = ln_model.predict(X_test)\n",
        "print(\"RMSE:\",np.sqrt(mean_squared_error(pred, y_test)))"
      ],
      "metadata": {
        "colab": {
          "base_uri": "https://localhost:8080/"
        },
        "id": "ySnFDxwtk6co",
        "outputId": "12ce00dd-eb2f-4b80-cb2b-7ea2e64bfd9e"
      },
      "execution_count": 41,
      "outputs": [
        {
          "output_type": "stream",
          "name": "stdout",
          "text": [
            "0.7595179960010632\n",
            "RMSE: 4.6088119922881825\n"
          ]
        }
      ]
    },
    {
      "cell_type": "code",
      "source": [
        "def cool_function_model(y_true, y_predict):\n",
        "    r2 = r2_score(y_true, y_predict)\n",
        "    return r2\n",
        "\n",
        "print(\"Not that cool funtion:\", cool_function_model(y_test, pred))\n",
        "# Not happy. And the value is horrible, yes. I know!"
      ],
      "metadata": {
        "colab": {
          "base_uri": "https://localhost:8080/"
        },
        "id": "wAM2TtXMW4NX",
        "outputId": "b5f13865-81e8-4052-c33f-a146cb3acf54"
      },
      "execution_count": 42,
      "outputs": [
        {
          "output_type": "stream",
          "name": "stdout",
          "text": [
            "Not that cool funtion: 0.6942818984326424\n"
          ]
        }
      ]
    },
    {
      "cell_type": "markdown",
      "metadata": {
        "id": "7RLYfIvA-gHS"
      },
      "source": [
        "### Implementation: Shuffle and Split Data\n",
        "Split the data into the testing and training datasets. Shuffle the data as well to remove any bias in selecting the traing and test."
      ]
    },
    {
      "cell_type": "code",
      "execution_count": 24,
      "metadata": {
        "id": "LMiBMYxr-gHS"
      },
      "outputs": [],
      "source": [
        "# sad trombone. I thought it was meant to do this in the previous exercice. So, let's pretend that did not happen (ah ah )\n",
        "\n",
        "features = houses_cleaned.drop(columns=[\"medv\"])\n",
        "target = houses_cleaned[\"medv\"]\n",
        "\n",
        "X_train, X_test, y_train, y_test = train_test_split(features, target, test_size=0.20, random_state=0)"
      ]
    },
    {
      "cell_type": "markdown",
      "metadata": {
        "id": "zTPR3uQb-gHS"
      },
      "source": [
        "----\n",
        "\n",
        "## Analyzing Model Performance\n",
        "Next, we are going to build a Random Forest Regressor, and test its performance with several different parameter settings."
      ]
    },
    {
      "cell_type": "code",
      "source": [
        "from sklearn.ensemble import RandomForestRegressor\n",
        "\n",
        "forest = RandomForestRegressor(max_depth = 5,      ## parameters, model, max depths\n",
        "                               n_estimators = 100, ## 100 trees\n",
        "                               random_state = 1)\n",
        "                               # bootstrap = True - default\n",
        "\n",
        "forest.fit(X_train, y_train)\n",
        "print(\"r^2: \",forest.score(X_test, y_test))\n",
        "\n",
        "pred = forest.predict(X_test)\n",
        "print(\"RMSE: \",np.sqrt(mean_squared_error(pred, y_test)))"
      ],
      "metadata": {
        "colab": {
          "base_uri": "https://localhost:8080/"
        },
        "id": "85L8OKmiqcO-",
        "outputId": "ff3725b0-b66b-4c5e-b183-b9ce7948fd5f"
      },
      "execution_count": 25,
      "outputs": [
        {
          "output_type": "stream",
          "name": "stdout",
          "text": [
            "r^2:  0.72585291935811\n",
            "RMSE:  4.364356595683152\n"
          ]
        }
      ]
    },
    {
      "cell_type": "markdown",
      "metadata": {
        "id": "Zl9BTNFt-gHT"
      },
      "source": [
        "### Learning Curves\n",
        "Lets build the different models. Set the max_depth parameter to 2, 4, 6, 8, and 10 respectively."
      ]
    },
    {
      "cell_type": "code",
      "execution_count": 43,
      "metadata": {
        "id": "GUxKxZt--gHT",
        "colab": {
          "base_uri": "https://localhost:8080/"
        },
        "outputId": "0e8cac26-6343-4d46-ffce-46f4bea8832d"
      },
      "outputs": [
        {
          "output_type": "stream",
          "name": "stdout",
          "text": [
            "for max depth of 2, r^2 is 0.5984375242252772\n",
            "for max depth of 4, r^2 is 0.7013504472876858\n",
            "for max depth of 6, r^2 is 0.7338459075351653\n",
            "for max depth of 8, r^2 is 0.7299290196740089\n",
            "for max depth of 10, r^2 is 0.7320597016401609\n"
          ]
        }
      ],
      "source": [
        "# for 2\n",
        "forest = RandomForestRegressor(max_depth = 2,\n",
        "                               n_estimators = 100,\n",
        "                               random_state = 1)\n",
        "forest.fit(X_train, y_train)\n",
        "print(\"for max depth of 2, r^2 is\",forest.score(X_test, y_test))\n",
        "\n",
        "# for 4\n",
        "forest = RandomForestRegressor(max_depth = 4,\n",
        "                               n_estimators = 100,\n",
        "                               random_state = 1)\n",
        "forest.fit(X_train, y_train)\n",
        "print(\"for max depth of 4, r^2 is\",forest.score(X_test, y_test))\n",
        "\n",
        "# for 6\n",
        "forest = RandomForestRegressor(max_depth = 6,\n",
        "                               n_estimators = 100,\n",
        "                               random_state = 1)\n",
        "forest.fit(X_train, y_train)\n",
        "print(\"for max depth of 6, r^2 is\",forest.score(X_test, y_test))\n",
        "\n",
        "# for 8\n",
        "forest = RandomForestRegressor(max_depth = 8,\n",
        "                               n_estimators = 100,\n",
        "                               random_state = 1)\n",
        "forest.fit(X_train, y_train)\n",
        "print(\"for max depth of 8, r^2 is\",forest.score(X_test, y_test))\n",
        "\n",
        "# for 10\n",
        "forest = RandomForestRegressor(max_depth = 10,\n",
        "                               n_estimators = 100,\n",
        "                               random_state = 1)\n",
        "forest.fit(X_train, y_train)\n",
        "print(\"for max depth of 10, r^2 is\",forest.score(X_test, y_test))"
      ]
    },
    {
      "cell_type": "code",
      "source": [
        "# Now, like in class of intro to ML, with knn neighbours\n",
        "test_score = []\n",
        "depth = []\n",
        "\n",
        "for i in range(2,12,2):\n",
        "  forest = RandomForestRegressor(max_depth = i, n_estimators = 100, random_state = 1)\n",
        "  forest.fit(X_train, y_train)\n",
        "  score_train = forest.score(X_train, y_train)\n",
        "  score_test = forest.score(X_test, y_test)\n",
        "\n",
        "  test_score.append(score_test)\n",
        "  depth.append(i)\n",
        "\n",
        "print(\"Max depth values:\", depth)\n",
        "print(\"Testing scores are:\", test_score)"
      ],
      "metadata": {
        "colab": {
          "base_uri": "https://localhost:8080/"
        },
        "id": "uJpNEM2HwzXl",
        "outputId": "db9d6eec-b8e1-46ec-c8fc-9b3f5c5240bb"
      },
      "execution_count": 44,
      "outputs": [
        {
          "output_type": "stream",
          "name": "stdout",
          "text": [
            "Max depth values: [2, 4, 6, 8, 10]\n",
            "Testing scores are: [0.5984375242252772, 0.7013504472876858, 0.7338459075351653, 0.7299290196740089, 0.7320597016401609]\n"
          ]
        }
      ]
    },
    {
      "cell_type": "markdown",
      "metadata": {
        "id": "yBNX_Z4j-gHT"
      },
      "source": [
        "Now, plot the score for each tree on the training set and on the testing set."
      ]
    },
    {
      "cell_type": "code",
      "source": [
        "# directly from Gepeto\n",
        "import matplotlib.pyplot as plt\n",
        "\n",
        "max_depths = [2, 4, 6, 8, 10]\n",
        "testing_scores = [0.5984375242252772, 0.7013504472876858, 0.7338459075351653, 0.7299290196740089, 0.7320597016401609]\n",
        "\n",
        "plt.plot(max_depths, testing_scores, marker='o')\n",
        "plt.xlabel('Max Depth')\n",
        "plt.ylabel('Testing Score')\n",
        "plt.title('Testing Scores vs Max Depth')\n",
        "plt.grid(True)\n",
        "plt.show()"
      ],
      "metadata": {
        "colab": {
          "base_uri": "https://localhost:8080/",
          "height": 472
        },
        "id": "Lc88TM4NYQnR",
        "outputId": "a185b751-8230-4a9f-bd20-f52f575640d1"
      },
      "execution_count": 49,
      "outputs": [
        {
          "output_type": "display_data",
          "data": {
            "text/plain": [
              "<Figure size 640x480 with 1 Axes>"
            ],
            "image/png": "[encoded data removed]"
          },
          "metadata": {}
        }
      ]
    },
    {
      "cell_type": "code",
      "execution_count": 48,
      "metadata": {
        "scrolled": false,
        "id": "TCxkX2ds-gHT",
        "colab": {
          "base_uri": "https://localhost:8080/",
          "height": 430
        },
        "outputId": "75f110fa-a43b-46f0-8ddd-b92c5ce677ee"
      },
      "outputs": [
        {
          "output_type": "display_data",
          "data": {
            "text/plain": [
              "<Figure size 640x480 with 1 Axes>"
            ],
            "image/png": "[encoded data removed]"
          },
          "metadata": {}
        }
      ],
      "source": [
        "##still from day one ML ---- BUT CANNOT MAKE IT WORK\n",
        "\n",
        "plt.plot(test_score, c = \"orange\")\n",
        "plt.plot(depth, c = \"blue\")\n",
        "plt.xticks(range(0,10))\n",
        "plt.show()"
      ]
    },
    {
      "cell_type": "markdown",
      "metadata": {
        "id": "JgcMc6VB-gHU"
      },
      "source": [
        "What do these results tell you about the effect of the depth of the trees on the performance of the model?"
      ]
    },
    {
      "cell_type": "code",
      "execution_count": 29,
      "metadata": {
        "id": "ocabL-l_-gHU"
      },
      "outputs": [],
      "source": [
        "# Depth of 6 and 10 got the higher scores."
      ]
    },
    {
      "cell_type": "markdown",
      "metadata": {
        "id": "s9p8apl1-gHU"
      },
      "source": [
        "### Bias-Variance Tradeoff\n",
        "When the model is trained with a maximum depth of 1, does the model suffer from high bias or from high variance? How about when the model is trained with a maximum depth of 10? Check out this article before answering: https://towardsdatascience.com/understanding-the-bias-variance-tradeoff-165e6942b229"
      ]
    },
    {
      "cell_type": "code",
      "execution_count": 30,
      "metadata": {
        "id": "4kBz5sjB-gHU"
      },
      "outputs": [],
      "source": [
        "# Your response here"
      ]
    },
    {
      "cell_type": "markdown",
      "metadata": {
        "id": "3bIiBtre-gHV"
      },
      "source": [
        "### Best-Guess Optimal Model\n",
        "What is the max_depth parameter that you think would optimize the model? Run your model and explain its performance."
      ]
    },
    {
      "cell_type": "code",
      "execution_count": null,
      "metadata": {
        "id": "rc0zjqMP-gHV"
      },
      "outputs": [],
      "source": [
        "from sklearn.model_selection import RandomizedSearchCV\n",
        "\n",
        "# Create a parameter grid to search over\n",
        "random_grid = {\n",
        "    \"max_depth\": [None, 10, 20, 30, 40, 50],\n",
        "    \"min_samples_split\": [2, 5, 10],\n",
        "    \"min_samples_leaf\": [1, None, 4],\n",
        "    \"max_features\": ['auto', 'sqrt', 'log2', None]}\n",
        "\n",
        "forest = RandomForestRegressor(random_state=1)\n",
        "\n",
        "random_search = RandomizedSearchCV(estimator=forest, param_distributions=random_grid, cv=5, n_iter=20)\n",
        "random_search.fit(X_train, y_train)"
      ]
    },
    {
      "cell_type": "code",
      "source": [
        "#lets check the best params\n",
        "random_search.best_params_"
      ],
      "metadata": {
        "colab": {
          "base_uri": "https://localhost:8080/"
        },
        "id": "uFyUP-yb3Fcu",
        "outputId": "b73bdb32-0d17-42ea-da8f-3ee6ea45e97f"
      },
      "execution_count": 32,
      "outputs": [
        {
          "output_type": "execute_result",
          "data": {
            "text/plain": [
              "{'min_samples_split': 5,\n",
              " 'min_samples_leaf': 1,\n",
              " 'max_features': 'sqrt',\n",
              " 'max_depth': 20}"
            ]
          },
          "metadata": {},
          "execution_count": 32
        }
      ]
    },
    {
      "cell_type": "markdown",
      "metadata": {
        "id": "5pjEYJ9S-gHV"
      },
      "source": [
        "### Applicability\n",
        "*In a few sentences, discuss whether the constructed model should or should not be used in a real-world setting.*  \n",
        "**Hint:** Some questions to answering:\n",
        "- *How relevant today is data that was collected from 1978?*\n",
        "- *Are the features present in the data sufficient to describe a home?*\n",
        "- *Is the model robust enough to make consistent predictions?*\n",
        "- *Would data collected in an urban city like Boston be applicable in a rural city?*"
      ]
    },
    {
      "cell_type": "code",
      "execution_count": 33,
      "metadata": {
        "id": "2ipDW9uw-gHV"
      },
      "outputs": [],
      "source": [
        "# Your response here"
      ]
    }
  ],
  "metadata": {
    "anaconda-cloud": {},
    "kernelspec": {
      "display_name": "Python 3",
      "language": "python",
      "name": "python3"
    },
    "language_info": {
      "codemirror_mode": {
        "name": "ipython",
        "version": 3
      },
      "file_extension": ".py",
      "mimetype": "text/x-python",
      "name": "python",
      "nbconvert_exporter": "python",
      "pygments_lexer": "ipython3",
      "version": "3.7.2"
    },
    "colab": {
      "provenance": []
    }
  },
  "nbformat": 4,
  "nbformat_minor": 0
}